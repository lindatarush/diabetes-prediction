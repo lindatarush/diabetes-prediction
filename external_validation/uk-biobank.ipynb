{
 "cells": [
  {
   "cell_type": "code",
   "execution_count": 2,
   "metadata": {},
   "outputs": [],
   "source": [
    "import numpy as np\n",
    "import pandas as pd\n",
    "import tensorflow as tf"
   ]
  },
  {
   "cell_type": "markdown",
   "metadata": {},
   "source": [
    "Read the source file"
   ]
  },
  {
   "cell_type": "code",
   "execution_count": 3,
   "metadata": {},
   "outputs": [
    {
     "name": "stderr",
     "output_type": "stream",
     "text": [
      "/var/folders/z5/mj_15ff10rz3lfht0j5c9r680000gn/T/ipykernel_64831/3110670230.py:1: DtypeWarning: Columns (326,333,334,492,493,494,495,496,497,498,499,500,501,502,503,504,505,506,507,508,509,510,511,512,513,514,515,516,517,518,519,520,521,522,523,524,525,526,527,528,529,530,531,532,533,534,535,536,537,538,539,540,541,542,543,544,545,546,547,548,549,550,551,552,553,554,555,556,557,558,559,560,561,562,563,564,565,566,567,568,569,570,571,572,573,574,575,576,577,578,579,580,581,582,583,584,585,586,587,588,589,590,591,592,593,594,595,596,597,598,599,600,601,602,603,604,605,606,607,608,609,610,611,612,613,614,615,616,617,618,619,620,621,622,623,624,625,626,627,628,629,630,631,632,633,634,635,636,637,638,639,640,641,642,643,644,645,646,647,648,649,650,651,652,653,654,655,656,657,658,659,660,661,662,663,664,665,666,667,668,669,670,671,672,673,674,675,676,677,678,679,680,681,682,683,684,685,686,687,688,689,690,691,692,693,694,695,696,697,698,699,700,701,702,703,704,705,706,707,708,709,710,711,712,713,714,715,716,717,718,719,723,724,725,726,727,728,798,799,800,801,802,803,804,805,806,807,808,809,810,811,812,813,814,815,816,817,818,819,820,821,822,823,824,825,826,827,828,829,830,831,832,833,834,835,836,837,838,839,840,841,842,843,844,845,846,847,848,849,850,851,852,853,854,855,856,857,858,859,860,861,862,863,864,865,866,867,868,869,870,871,872,873,874,875,876,877,878,879,880,881,882,883,884,885,886,887,888,889,890,891,892,893,894,895,896,897,898,899,900,901,902,903,904,905,906,907,908,909,910,911,912,913,914,915,916,917,918,919,920,921,922,923,924,925,926,927,928,929,930,931,932,933,934,935,936,937,938,939,940,941,942,943,944,945,946,947,948,949,950,951,952,953,954,955,956,957,958,959,960,961,962,963,964,965,966,967,968,969,970,971,972,973,974,975,976,977,978,979,980,981,982,983,984,985,986,987,990,991,992,993,994,995,996,997,998,999,1000,1001,1002,1003,1004,1005,1006,1007,1008,1009,1010,1011,1012,1013,1014,1015,1016,1017,1018,1019,1020,1021,1022,1023,1024,1025,1026,1027,1028,1029,1030,1031,1032,1033,1034,1036) have mixed types. Specify dtype option on import or set low_memory=False.\n",
      "  uk_biobank = pd.read_csv(\"./resources//validation.csv\")\n"
     ]
    }
   ],
   "source": [
    "uk_biobank = pd.read_csv(\"./resources//validation.csv\")\n",
    "uk_biobank.reset_index(drop=False,names=[\"id\"], inplace=True)"
   ]
  },
  {
   "cell_type": "markdown",
   "metadata": {},
   "source": [
    "## 1. Construct baseline predictors\n",
    "\n",
    "we only need select the initial test result, since only initial age is available(21022-0.0)"
   ]
  },
  {
   "cell_type": "markdown",
   "metadata": {},
   "source": [
    "select the column we want, that include all the biomarkers, date of birth and sex"
   ]
  },
  {
   "cell_type": "code",
   "execution_count": 4,
   "metadata": {},
   "outputs": [],
   "source": [
    "# -0.0 means the first assesment of this field\n",
    "col = {\n",
    "    \"eid\": \"eid\",\n",
    "    \"31-0.0\": \"sex\",\n",
    "    \"21022-0.0\": \"baseline_age\",\n",
    "    '30870-0.0': \"triglycerides\",\n",
    "    '30780-0.0': \"LDL\",\n",
    "    '30760-0.0': \"HDL\",\n",
    "    '30750-0.0': \"HbA1c\",\n",
    "    '30740-0.0': \"glucose\",\n",
    "    '30700-0.0': \"creatinine\",\n",
    "    '30871-0.0': \"triglycerides_assay_date\",\n",
    "    '30781-0.0': \"LDL_assay_date\",\n",
    "    '30761-0.0': \"HDL_assay_date\",\n",
    "    '30751-0.0': \"HbA1c_assay_date\",\n",
    "    '30741-0.0': \"glucose_assay_date\",\n",
    "    '30701-0.0': \"creatinine_assay_date\",\n",
    "}\n"
   ]
  },
  {
   "cell_type": "markdown",
   "metadata": {},
   "source": [
    "we only select the patient the initial assessment result"
   ]
  },
  {
   "cell_type": "code",
   "execution_count": 5,
   "metadata": {},
   "outputs": [],
   "source": [
    "predictors = filter(lambda x : x in list(col.keys()), uk_biobank.columns.to_list())\n",
    "predictors = list(predictors)"
   ]
  },
  {
   "cell_type": "code",
   "execution_count": 6,
   "metadata": {},
   "outputs": [
    {
     "name": "stderr",
     "output_type": "stream",
     "text": [
      "/var/folders/z5/mj_15ff10rz3lfht0j5c9r680000gn/T/ipykernel_64831/174750809.py:2: SettingWithCopyWarning: \n",
      "A value is trying to be set on a copy of a slice from a DataFrame\n",
      "\n",
      "See the caveats in the documentation: https://pandas.pydata.org/pandas-docs/stable/user_guide/indexing.html#returning-a-view-versus-a-copy\n",
      "  data.rename(columns=col, inplace=True)\n"
     ]
    }
   ],
   "source": [
    "data = uk_biobank[predictors]\n",
    "data.rename(columns=col, inplace=True)"
   ]
  },
  {
   "cell_type": "markdown",
   "metadata": {},
   "source": [
    "we want to filter the prediabetes patients, based on HbA1c and glucose"
   ]
  },
  {
   "cell_type": "code",
   "execution_count": 7,
   "metadata": {},
   "outputs": [],
   "source": [
    "class HbA1c:\n",
    "    @staticmethod\n",
    "    def diagnose(value):\n",
    "        if value < 39:\n",
    "            return 0\n",
    "        if value > 46:\n",
    "            return 2\n",
    "        else:\n",
    "            return 1\n",
    "        \n",
    "class Glucose:\n",
    "    @staticmethod\n",
    "    def diagnose(value):\n",
    "        if value < 5.6:\n",
    "            return 0\n",
    "        if value > 6.9:\n",
    "            return 2\n",
    "        else:\n",
    "            return 1\n",
    "        "
   ]
  },
  {
   "cell_type": "code",
   "execution_count": 8,
   "metadata": {},
   "outputs": [
    {
     "name": "stderr",
     "output_type": "stream",
     "text": [
      "/var/folders/z5/mj_15ff10rz3lfht0j5c9r680000gn/T/ipykernel_64831/3304949585.py:5: SettingWithCopyWarning: \n",
      "A value is trying to be set on a copy of a slice from a DataFrame.\n",
      "Try using .loc[row_indexer,col_indexer] = value instead\n",
      "\n",
      "See the caveats in the documentation: https://pandas.pydata.org/pandas-docs/stable/user_guide/indexing.html#returning-a-view-versus-a-copy\n",
      "  data[\"hba1c\"] = hba1c\n",
      "/var/folders/z5/mj_15ff10rz3lfht0j5c9r680000gn/T/ipykernel_64831/3304949585.py:6: SettingWithCopyWarning: \n",
      "A value is trying to be set on a copy of a slice from a DataFrame.\n",
      "Try using .loc[row_indexer,col_indexer] = value instead\n",
      "\n",
      "See the caveats in the documentation: https://pandas.pydata.org/pandas-docs/stable/user_guide/indexing.html#returning-a-view-versus-a-copy\n",
      "  data[\"glu\"] = glu\n"
     ]
    }
   ],
   "source": [
    "hba1c = data[\"HbA1c\"].apply(lambda x : HbA1c.diagnose(x) == 1)\n",
    "glu = data[\"glucose\"].apply(lambda x : Glucose.diagnose(x) == 1)\n",
    "#union of two\n",
    "pre = (hba1c + glu) > 0\n",
    "data[\"hba1c\"] = hba1c\n",
    "data[\"glu\"] = glu\n",
    "\n",
    "prediabetes = data[pre]\n",
    "# drop null value\n",
    "prediabetes = prediabetes.dropna(how=\"any\")"
   ]
  },
  {
   "cell_type": "code",
   "execution_count": 9,
   "metadata": {},
   "outputs": [],
   "source": [
    "dates = [\n",
    "    \"triglycerides_assay_date\",\n",
    "    \"LDL_assay_date\",\n",
    "    \"HbA1c_assay_date\",\n",
    "    \"glucose_assay_date\",\n",
    "    \"creatinine_assay_date\"\n",
    "    ]"
   ]
  },
  {
   "cell_type": "code",
   "execution_count": 10,
   "metadata": {},
   "outputs": [],
   "source": [
    "for d in dates:\n",
    "    prediabetes[d] = pd.to_datetime(prediabetes[d])"
   ]
  },
  {
   "cell_type": "code",
   "execution_count": 11,
   "metadata": {},
   "outputs": [],
   "source": [
    "def validate(series: pd.Series):\n",
    "    for d in dates:\n",
    "        test_date = series[d]\n",
    "        b_date = series[\"baseline_date\"]\n",
    "        if test_date > b_date:\n",
    "            return False\n",
    "        if (b_date - test_date).days / 30.5 > 6:\n",
    "            return False\n",
    "        return True"
   ]
  },
  {
   "cell_type": "code",
   "execution_count": 12,
   "metadata": {},
   "outputs": [],
   "source": [
    "v = []\n",
    "baseline_date = []\n",
    "for i in range(prediabetes.shape[0]):\n",
    "    s = prediabetes.iloc[i]\n",
    "    \n",
    "    if s[\"hba1c\"] and s[\"glu\"]:\n",
    "        baseline_date.append(min(s[\"glucose_assay_date\"], s[\"HbA1c_assay_date\"]))\n",
    "    elif s[\"hba1c\"]:\n",
    "        baseline_date.append(prediabetes.iloc[i][\"HbA1c_assay_date\"])\n",
    "    elif s[\"glu\"]:\n",
    "        baseline_date.append(prediabetes.iloc[i][\"glucose_assay_date\"])\n",
    "    else:\n",
    "        baseline_date.append(np.nan)\n",
    "        \n",
    "prediabetes[\"baseline_date\"] = pd.to_datetime(baseline_date)\n",
    "\n",
    "for i in range(prediabetes.shape[0]):\n",
    "    v.append(validate(prediabetes.iloc[i]))\n",
    "\n",
    "prediabetes[\"valid\"] = v"
   ]
  },
  {
   "cell_type": "markdown",
   "metadata": {},
   "source": [
    "valid cohort"
   ]
  },
  {
   "cell_type": "code",
   "execution_count": 13,
   "metadata": {},
   "outputs": [],
   "source": [
    "cohort = prediabetes[v]"
   ]
  },
  {
   "cell_type": "markdown",
   "metadata": {},
   "source": [
    "### Construct diagnosis table"
   ]
  },
  {
   "cell_type": "code",
   "execution_count": 15,
   "metadata": {},
   "outputs": [],
   "source": [
    "diag_col = {\n",
    "    \"41280\": \"diagnosis_date\",\n",
    "    \"41270\": \"diagnosis\"\n",
    "}"
   ]
  },
  {
   "cell_type": "code",
   "execution_count": 16,
   "metadata": {},
   "outputs": [],
   "source": [
    "diag = filter(lambda x : x[:5] in list(diag_col.keys()), uk_biobank.columns.to_list())\n",
    "diag = list(diag)"
   ]
  },
  {
   "cell_type": "code",
   "execution_count": 17,
   "metadata": {},
   "outputs": [],
   "source": [
    "diag = list(filter(lambda x : x[:5] == '41270', uk_biobank.columns.to_list()))\n",
    "diag_date = list(filter(lambda x : x[:5] == '41280', uk_biobank.columns.to_list()))"
   ]
  },
  {
   "cell_type": "code",
   "execution_count": 18,
   "metadata": {},
   "outputs": [],
   "source": [
    "diag.extend([\"eid\"]) \n",
    "diag_date.extend([\"eid\"])"
   ]
  },
  {
   "cell_type": "code",
   "execution_count": 19,
   "metadata": {},
   "outputs": [],
   "source": [
    "cohort_patient = cohort.eid"
   ]
  },
  {
   "cell_type": "code",
   "execution_count": 20,
   "metadata": {},
   "outputs": [],
   "source": [
    "diag_date = uk_biobank[uk_biobank[\"eid\"].isin(cohort_patient)][diag_date]\n",
    "diag = uk_biobank[uk_biobank[\"eid\"].isin(cohort_patient)][diag]"
   ]
  },
  {
   "cell_type": "markdown",
   "metadata": {},
   "source": [
    "By the UK Bio-bank description, the latest date for the diagnosis is [2022-10-31](https://biobank.ndph.ox.ac.uk/showcase/field.cgi?id=41280), so we treat it as the truncation date."
   ]
  },
  {
   "cell_type": "code",
   "execution_count": 21,
   "metadata": {},
   "outputs": [],
   "source": [
    "# melt down the data frame\n",
    "diag_date = diag_date.melt(id_vars=[\"eid\"])\n",
    "diag = diag.melt(id_vars=[\"eid\"])"
   ]
  },
  {
   "cell_type": "code",
   "execution_count": 22,
   "metadata": {},
   "outputs": [],
   "source": [
    "diag_date.dropna(how=\"any\", inplace=True)\n",
    "diag.dropna(how=\"any\", inplace=True)"
   ]
  },
  {
   "cell_type": "code",
   "execution_count": 23,
   "metadata": {},
   "outputs": [],
   "source": [
    "diag = diag[diag[\"value\"].apply(lambda x : x[:3] == \"E11\")]\n",
    "diag[\"visit\"] = diag[\"variable\"].apply(lambda x : x.split(\"-\")[1])\n",
    "diag_date[\"visit\"] = diag_date[\"variable\"].apply(lambda x : x.split(\"-\")[1])"
   ]
  },
  {
   "cell_type": "code",
   "execution_count": 24,
   "metadata": {},
   "outputs": [],
   "source": [
    "# join the table by the eid and visit index\n",
    "diag = pd.merge(left=diag, right=diag_date[[\"eid\", \"visit\", \"value\"]], on=[\"eid\", \"visit\"])"
   ]
  },
  {
   "cell_type": "code",
   "execution_count": 25,
   "metadata": {},
   "outputs": [],
   "source": [
    "# rename the column name\n",
    "diag = diag.rename(columns={\"value_x\": \"ICD10\", \"value_y\": \"diagnosis_date\"})\n",
    "# find the first record\n",
    "diag = diag.sort_values(\"diagnosis_date\").groupby(\"eid\", as_index=False).apply(lambda x : x.head(1))"
   ]
  },
  {
   "cell_type": "code",
   "execution_count": 26,
   "metadata": {},
   "outputs": [],
   "source": [
    "dataset = pd.merge(left=cohort[[\"eid\", \"creatinine\", \"glucose\", \"HbA1c\", \"HDL\", \"LDL\", \"triglycerides\", \"sex\", \"baseline_age\", \"baseline_date\"]], right=diag, how=\"left\", on=\"eid\")\n",
    "dataset[\"diagnosis_date\"] = pd.to_datetime(dataset[\"diagnosis_date\"])\n",
    "dataset[\"progress_period\"] = (dataset[\"diagnosis_date\"] - dataset[\"baseline_date\"]).apply(lambda x : x.days)"
   ]
  },
  {
   "cell_type": "code",
   "execution_count": 105,
   "metadata": {},
   "outputs": [],
   "source": [
    "TIME_SPECTRUM = 2\n",
    "TRUNCATION_DATE = \"2022-10-31\""
   ]
  },
  {
   "cell_type": "code",
   "execution_count": 106,
   "metadata": {},
   "outputs": [],
   "source": [
    "# # exclude the patients who is likely to have a incomplete record due to the truncation.\n",
    "# ds = dataset[dataset[\"baseline_date\"] + pd.Timedelta(days=TIME_SPECTRUM * 365.25) < TRUNCATION_DATE]\n",
    "# filter out the patient whose diabetes diagnosis is earlier than baseline\n",
    "ds = dataset.query(f\"diagnosis_date.isnull() or progress_period > 0\")"
   ]
  },
  {
   "cell_type": "markdown",
   "metadata": {},
   "source": [
    "convert the unit of HbA1c since we use % in the model [reference](https://gpnotebook.com/simplepage.cfm?ID=x20121109220240605084)"
   ]
  },
  {
   "cell_type": "code",
   "execution_count": 107,
   "metadata": {},
   "outputs": [],
   "source": [
    "from typing import List\n",
    "import sys\n",
    "sys.stdin = open(\"./resources/hba1c_convert.txt\", \"r\")\n",
    "s = sys.stdin.read()\n",
    "sys.stdin.close()\n",
    "splitted = s.split(\"\\n\")\n",
    "percent = []\n",
    "mmol = []\n",
    "for line in splitted:\n",
    "    percent.append(float(line.split(\"\\t\")[0]))\n",
    "    mmol.append(float(line.split(\"\\t\")[1]))\n",
    "\n",
    "def ceiling(nums: List[float], target: float):\n",
    "    '''\n",
    "    return the minimum number index in the nums that greater or equal to the target\n",
    "    using binary search\n",
    "    '''\n",
    "    left = 0\n",
    "    right = len(nums) - 1\n",
    "    while(left < right):\n",
    "        mid = (right - left) // 2 + left\n",
    "        if nums[mid] == target:\n",
    "            return mid\n",
    "        if nums[mid] > target:\n",
    "            right = mid - 1\n",
    "        else:\n",
    "            left = mid + 1\n",
    "    return left\n",
    "\n",
    "def linear_interpo(ymin: float, ymax: float, y: float, xmin: float, xmax: float):\n",
    "    x: float = (y - ymin) * (xmax - xmin) / (ymax - ymin) + xmin\n",
    "    return x\n",
    "\n",
    "def convert(hba1c: float):\n",
    "    head = ceiling(mmol, hba1c)\n",
    "    if head == 0:\n",
    "        return 4\n",
    "    tail = head - 1\n",
    "    return linear_interpo(mmol[tail], mmol[head], hba1c, percent[tail], percent[head])"
   ]
  },
  {
   "cell_type": "code",
   "execution_count": 108,
   "metadata": {},
   "outputs": [
    {
     "name": "stderr",
     "output_type": "stream",
     "text": [
      "/var/folders/z5/mj_15ff10rz3lfht0j5c9r680000gn/T/ipykernel_64831/2190840045.py:1: SettingWithCopyWarning: \n",
      "A value is trying to be set on a copy of a slice from a DataFrame.\n",
      "Try using .loc[row_indexer,col_indexer] = value instead\n",
      "\n",
      "See the caveats in the documentation: https://pandas.pydata.org/pandas-docs/stable/user_guide/indexing.html#returning-a-view-versus-a-copy\n",
      "  ds[\"HbA1c\"] = ds[\"HbA1c\"].apply(convert)\n"
     ]
    }
   ],
   "source": [
    "ds[\"HbA1c\"] = ds[\"HbA1c\"].apply(convert)"
   ]
  },
  {
   "cell_type": "code",
   "execution_count": 109,
   "metadata": {},
   "outputs": [
    {
     "name": "stderr",
     "output_type": "stream",
     "text": [
      "/var/folders/z5/mj_15ff10rz3lfht0j5c9r680000gn/T/ipykernel_64831/1344338563.py:4: SettingWithCopyWarning: \n",
      "A value is trying to be set on a copy of a slice from a DataFrame.\n",
      "Try using .loc[row_indexer,col_indexer] = value instead\n",
      "\n",
      "See the caveats in the documentation: https://pandas.pydata.org/pandas-docs/stable/user_guide/indexing.html#returning-a-view-versus-a-copy\n",
      "  t2dm_instance[\"class\"] = 1\n",
      "/var/folders/z5/mj_15ff10rz3lfht0j5c9r680000gn/T/ipykernel_64831/1344338563.py:5: SettingWithCopyWarning: \n",
      "A value is trying to be set on a copy of a slice from a DataFrame.\n",
      "Try using .loc[row_indexer,col_indexer] = value instead\n",
      "\n",
      "See the caveats in the documentation: https://pandas.pydata.org/pandas-docs/stable/user_guide/indexing.html#returning-a-view-versus-a-copy\n",
      "  nont2dm_incidence[\"class\"] = 0\n"
     ]
    }
   ],
   "source": [
    "t2dm_instance = ds.query(f\"diagnosis_date.notnull() and progress_period < {TIME_SPECTRUM * 365.25}\")\n",
    "nont2dm_incidence = ds.query(f\"diagnosis_date.isnull() or progress_period > {TIME_SPECTRUM * 365.25}\")\n",
    "\n",
    "t2dm_instance[\"class\"] = 1\n",
    "nont2dm_incidence[\"class\"] = 0\n",
    "\n",
    "ds = pd.concat([t2dm_instance, nont2dm_incidence])"
   ]
  },
  {
   "cell_type": "code",
   "execution_count": 110,
   "metadata": {},
   "outputs": [
    {
     "data": {
      "text/plain": [
       "(31102, 16)"
      ]
     },
     "execution_count": 110,
     "metadata": {},
     "output_type": "execute_result"
    }
   ],
   "source": [
    "ds.shape"
   ]
  },
  {
   "cell_type": "code",
   "execution_count": 100,
   "metadata": {},
   "outputs": [
    {
     "data": {
      "text/plain": [
       "2"
      ]
     },
     "execution_count": 100,
     "metadata": {},
     "output_type": "execute_result"
    }
   ],
   "source": [
    "TIME_SPECTRUM"
   ]
  },
  {
   "cell_type": "code",
   "execution_count": 111,
   "metadata": {},
   "outputs": [],
   "source": [
    "t2dm_instance[\"eid\"].to_csv(f\"year_{TIME_SPECTRUM}_t2dm.csv\", index=False)\n",
    "nont2dm_incidence[\"eid\"].to_csv(f\"year_{TIME_SPECTRUM}_nont2dm.csv\", index=False)"
   ]
  },
  {
   "cell_type": "code",
   "execution_count": 112,
   "metadata": {},
   "outputs": [],
   "source": [
    "X = ds[[\"creatinine\", \"glucose\", \"HbA1c\", \"HDL\", \"LDL\", \"triglycerides\", \"sex\", \"baseline_age\"]]\n",
    "y = ds[[\"class\"]]"
   ]
  },
  {
   "cell_type": "code",
   "execution_count": 113,
   "metadata": {},
   "outputs": [
    {
     "data": {
      "text/plain": [
       "class    1581\n",
       "dtype: int64"
      ]
     },
     "execution_count": 113,
     "metadata": {},
     "output_type": "execute_result"
    }
   ],
   "source": [
    "y.sum()"
   ]
  },
  {
   "cell_type": "code",
   "execution_count": 77,
   "metadata": {},
   "outputs": [],
   "source": [
    "X.reset_index(drop=True, inplace=True)\n",
    "y.reset_index(drop=True, inplace=True)"
   ]
  },
  {
   "cell_type": "markdown",
   "metadata": {},
   "source": [
    "### Prediction"
   ]
  },
  {
   "cell_type": "code",
   "execution_count": 79,
   "metadata": {},
   "outputs": [
    {
     "name": "stdout",
     "output_type": "stream",
     "text": [
      "WARNING:tensorflow:SavedModel saved prior to TF 2.5 detected when loading Keras model. Please ensure that you are saving the model with model.save() or tf.keras.models.save_model(), *NOT* tf.saved_model.save(). To confirm, there should be a file named \"keras_metadata.pb\" in the SavedModel directory.\n"
     ]
    },
    {
     "name": "stderr",
     "output_type": "stream",
     "text": [
      "/Users/george/miniforge3/envs/diab-logue/lib/python3.9/site-packages/sklearn/base.py:318: UserWarning: Trying to unpickle estimator RobustScaler from version 0.22.2.post1 when using version 1.2.2. This might lead to breaking code or invalid results. Use at your own risk. For more info please refer to:\n",
      "https://scikit-learn.org/stable/model_persistence.html#security-maintainability-limitations\n",
      "  warnings.warn(\n",
      "WARNING:tensorflow:SavedModel saved prior to TF 2.5 detected when loading Keras model. Please ensure that you are saving the model with model.save() or tf.keras.models.save_model(), *NOT* tf.saved_model.save(). To confirm, there should be a file named \"keras_metadata.pb\" in the SavedModel directory.\n"
     ]
    }
   ],
   "source": [
    "import os\n",
    "import pickle\n",
    "from sklearn import metrics\n",
    "from dataclasses import dataclass\n",
    "from sklearn.metrics import classification_report, confusion_matrix, ConfusionMatrixDisplay\n",
    "\n",
    "CHECK_POINT_PATH = r\"../Output/A98_20230627_output/\"\n",
    "VALID_FEATURES = {\n",
    "    2: ['creatinine', 'glucose', 'HbA1c', 'baseline_age'],\n",
    "    5: [ 'HDL', 'creatinine', 'glucose','triglycerides','LDL','potassium_serum_plasma','HbA1c', 'baseline_age', 'sex'],\n",
    "    10: ['creatinine', 'glucose', 'triglycerides', 'potassium_serum_plasma', 'HbA1c', 'baseline_age', 'sex']\n",
    "}\n",
    "\n",
    "model_path = os.path.join(CHECK_POINT_PATH, f\"spec-{TIME_SPECTRUM}year\", \"models\", \"weighted_model\")\n",
    "scaler_path = os.path.join(CHECK_POINT_PATH, f\"spec-{TIME_SPECTRUM}year\", \"models\",\"scaler.pkl\")\n",
    "scaler = pickle.load(open(scaler_path, 'rb'))\n",
    "model: tf.keras.Model = tf.keras.models.load_model(model_path)"
   ]
  },
  {
   "cell_type": "code",
   "execution_count": 80,
   "metadata": {},
   "outputs": [
    {
     "data": {
      "text/plain": [
       "class    0.043663\n",
       "dtype: float64"
      ]
     },
     "execution_count": 80,
     "metadata": {},
     "output_type": "execute_result"
    }
   ],
   "source": [
    "y.mean()"
   ]
  },
  {
   "cell_type": "code",
   "execution_count": 81,
   "metadata": {},
   "outputs": [],
   "source": [
    "X_scaled = pd.DataFrame({})"
   ]
  },
  {
   "cell_type": "code",
   "execution_count": 82,
   "metadata": {},
   "outputs": [],
   "source": [
    "VALID_TESTS = {\n",
    "    2: ['HDL','choles','creatinine','glucose','triglycerides','LDL','potassium_serum_plasma','HbA1c'],\n",
    "    5: ['HDL','choles','creatinine','glucose','triglycerides','LDL','potassium_serum_plasma','HbA1c'],\n",
    "    10: [\"choles\", \"creatinine\", \"glucose\", \"triglycerides\", \"potassium_serum_plasma\", \"HbA1c\"]\n",
    "}\n",
    "for t in VALID_TESTS[TIME_SPECTRUM]:\n",
    "    if t in X.columns:\n",
    "        X_scaled[t] = X[t]\n",
    "        assert X[t].isnull().sum() == 0\n",
    "    else:\n",
    "        X_scaled[t] = np.zeros(X.shape[0])\n"
   ]
  },
  {
   "cell_type": "code",
   "execution_count": 83,
   "metadata": {},
   "outputs": [
    {
     "data": {
      "text/html": [
       "<div>\n",
       "<style scoped>\n",
       "    .dataframe tbody tr th:only-of-type {\n",
       "        vertical-align: middle;\n",
       "    }\n",
       "\n",
       "    .dataframe tbody tr th {\n",
       "        vertical-align: top;\n",
       "    }\n",
       "\n",
       "    .dataframe thead th {\n",
       "        text-align: right;\n",
       "    }\n",
       "</style>\n",
       "<table border=\"1\" class=\"dataframe\">\n",
       "  <thead>\n",
       "    <tr style=\"text-align: right;\">\n",
       "      <th></th>\n",
       "      <th>count</th>\n",
       "      <th>mean</th>\n",
       "      <th>std</th>\n",
       "      <th>min</th>\n",
       "      <th>25%</th>\n",
       "      <th>50%</th>\n",
       "      <th>75%</th>\n",
       "      <th>max</th>\n",
       "    </tr>\n",
       "  </thead>\n",
       "  <tbody>\n",
       "    <tr>\n",
       "      <th>HDL</th>\n",
       "      <td>31102.0</td>\n",
       "      <td>1.457318</td>\n",
       "      <td>0.396370</td>\n",
       "      <td>0.347</td>\n",
       "      <td>1.172</td>\n",
       "      <td>1.398</td>\n",
       "      <td>1.68275</td>\n",
       "      <td>4.129</td>\n",
       "    </tr>\n",
       "    <tr>\n",
       "      <th>choles</th>\n",
       "      <td>31102.0</td>\n",
       "      <td>0.000000</td>\n",
       "      <td>0.000000</td>\n",
       "      <td>0.000</td>\n",
       "      <td>0.000</td>\n",
       "      <td>0.000</td>\n",
       "      <td>0.00000</td>\n",
       "      <td>0.000</td>\n",
       "    </tr>\n",
       "    <tr>\n",
       "      <th>creatinine</th>\n",
       "      <td>31102.0</td>\n",
       "      <td>72.374947</td>\n",
       "      <td>17.239708</td>\n",
       "      <td>26.600</td>\n",
       "      <td>61.700</td>\n",
       "      <td>70.700</td>\n",
       "      <td>81.00000</td>\n",
       "      <td>1086.900</td>\n",
       "    </tr>\n",
       "    <tr>\n",
       "      <th>glucose</th>\n",
       "      <td>31102.0</td>\n",
       "      <td>5.962253</td>\n",
       "      <td>0.382328</td>\n",
       "      <td>3.058</td>\n",
       "      <td>5.707</td>\n",
       "      <td>5.880</td>\n",
       "      <td>6.17600</td>\n",
       "      <td>12.142</td>\n",
       "    </tr>\n",
       "    <tr>\n",
       "      <th>triglycerides</th>\n",
       "      <td>31102.0</td>\n",
       "      <td>1.855400</td>\n",
       "      <td>1.067724</td>\n",
       "      <td>0.242</td>\n",
       "      <td>1.114</td>\n",
       "      <td>1.589</td>\n",
       "      <td>2.29800</td>\n",
       "      <td>11.227</td>\n",
       "    </tr>\n",
       "    <tr>\n",
       "      <th>LDL</th>\n",
       "      <td>31102.0</td>\n",
       "      <td>3.588003</td>\n",
       "      <td>0.871128</td>\n",
       "      <td>1.017</td>\n",
       "      <td>2.968</td>\n",
       "      <td>3.552</td>\n",
       "      <td>4.15500</td>\n",
       "      <td>9.610</td>\n",
       "    </tr>\n",
       "    <tr>\n",
       "      <th>potassium_serum_plasma</th>\n",
       "      <td>31102.0</td>\n",
       "      <td>0.000000</td>\n",
       "      <td>0.000000</td>\n",
       "      <td>0.000</td>\n",
       "      <td>0.000</td>\n",
       "      <td>0.000</td>\n",
       "      <td>0.00000</td>\n",
       "      <td>0.000</td>\n",
       "    </tr>\n",
       "    <tr>\n",
       "      <th>HbA1c</th>\n",
       "      <td>31102.0</td>\n",
       "      <td>5.430399</td>\n",
       "      <td>0.445381</td>\n",
       "      <td>4.000</td>\n",
       "      <td>5.230</td>\n",
       "      <td>5.420</td>\n",
       "      <td>5.54000</td>\n",
       "      <td>11.800</td>\n",
       "    </tr>\n",
       "  </tbody>\n",
       "</table>\n",
       "</div>"
      ],
      "text/plain": [
       "                          count       mean        std     min     25%     50%   \n",
       "HDL                     31102.0   1.457318   0.396370   0.347   1.172   1.398  \\\n",
       "choles                  31102.0   0.000000   0.000000   0.000   0.000   0.000   \n",
       "creatinine              31102.0  72.374947  17.239708  26.600  61.700  70.700   \n",
       "glucose                 31102.0   5.962253   0.382328   3.058   5.707   5.880   \n",
       "triglycerides           31102.0   1.855400   1.067724   0.242   1.114   1.589   \n",
       "LDL                     31102.0   3.588003   0.871128   1.017   2.968   3.552   \n",
       "potassium_serum_plasma  31102.0   0.000000   0.000000   0.000   0.000   0.000   \n",
       "HbA1c                   31102.0   5.430399   0.445381   4.000   5.230   5.420   \n",
       "\n",
       "                             75%       max  \n",
       "HDL                      1.68275     4.129  \n",
       "choles                   0.00000     0.000  \n",
       "creatinine              81.00000  1086.900  \n",
       "glucose                  6.17600    12.142  \n",
       "triglycerides            2.29800    11.227  \n",
       "LDL                      4.15500     9.610  \n",
       "potassium_serum_plasma   0.00000     0.000  \n",
       "HbA1c                    5.54000    11.800  "
      ]
     },
     "execution_count": 83,
     "metadata": {},
     "output_type": "execute_result"
    }
   ],
   "source": [
    "X_scaled.describe().T"
   ]
  },
  {
   "cell_type": "code",
   "execution_count": 84,
   "metadata": {},
   "outputs": [
    {
     "name": "stderr",
     "output_type": "stream",
     "text": [
      "/Users/george/miniforge3/envs/diab-logue/lib/python3.9/site-packages/sklearn/base.py:432: UserWarning: X has feature names, but RobustScaler was fitted without feature names\n",
      "  warnings.warn(\n"
     ]
    }
   ],
   "source": [
    "X_scaled = pd.DataFrame(scaler.transform(X_scaled), columns=VALID_TESTS[TIME_SPECTRUM])\n",
    "X_scaled[\"baseline_age\"] = X[\"baseline_age\"]\n",
    "X_scaled[\"sex\"] = X[\"sex\"]"
   ]
  },
  {
   "cell_type": "code",
   "execution_count": 85,
   "metadata": {},
   "outputs": [
    {
     "data": {
      "text/html": [
       "<div>\n",
       "<style scoped>\n",
       "    .dataframe tbody tr th:only-of-type {\n",
       "        vertical-align: middle;\n",
       "    }\n",
       "\n",
       "    .dataframe tbody tr th {\n",
       "        vertical-align: top;\n",
       "    }\n",
       "\n",
       "    .dataframe thead th {\n",
       "        text-align: right;\n",
       "    }\n",
       "</style>\n",
       "<table border=\"1\" class=\"dataframe\">\n",
       "  <thead>\n",
       "    <tr style=\"text-align: right;\">\n",
       "      <th></th>\n",
       "      <th>count</th>\n",
       "      <th>mean</th>\n",
       "      <th>std</th>\n",
       "      <th>min</th>\n",
       "      <th>25%</th>\n",
       "      <th>50%</th>\n",
       "      <th>75%</th>\n",
       "      <th>max</th>\n",
       "    </tr>\n",
       "  </thead>\n",
       "  <tbody>\n",
       "    <tr>\n",
       "      <th>HDL</th>\n",
       "      <td>31102.0</td>\n",
       "      <td>0.245788</td>\n",
       "      <td>0.765194</td>\n",
       "      <td>-1.897683</td>\n",
       "      <td>-0.305019</td>\n",
       "      <td>0.131274</td>\n",
       "      <td>0.680985</td>\n",
       "      <td>5.403475</td>\n",
       "    </tr>\n",
       "    <tr>\n",
       "      <th>creatinine</th>\n",
       "      <td>31102.0</td>\n",
       "      <td>-0.165180</td>\n",
       "      <td>0.615704</td>\n",
       "      <td>-1.800000</td>\n",
       "      <td>-0.546429</td>\n",
       "      <td>-0.225000</td>\n",
       "      <td>0.142857</td>\n",
       "      <td>36.067857</td>\n",
       "    </tr>\n",
       "    <tr>\n",
       "      <th>glucose</th>\n",
       "      <td>31102.0</td>\n",
       "      <td>0.907196</td>\n",
       "      <td>0.523737</td>\n",
       "      <td>-3.071233</td>\n",
       "      <td>0.557534</td>\n",
       "      <td>0.794521</td>\n",
       "      <td>1.200000</td>\n",
       "      <td>9.372603</td>\n",
       "    </tr>\n",
       "    <tr>\n",
       "      <th>triglycerides</th>\n",
       "      <td>31102.0</td>\n",
       "      <td>0.826584</td>\n",
       "      <td>1.326366</td>\n",
       "      <td>-1.177640</td>\n",
       "      <td>-0.094410</td>\n",
       "      <td>0.495652</td>\n",
       "      <td>1.376398</td>\n",
       "      <td>12.468323</td>\n",
       "    </tr>\n",
       "    <tr>\n",
       "      <th>LDL</th>\n",
       "      <td>31102.0</td>\n",
       "      <td>0.438793</td>\n",
       "      <td>0.708119</td>\n",
       "      <td>-1.651114</td>\n",
       "      <td>-0.065193</td>\n",
       "      <td>0.409527</td>\n",
       "      <td>0.899691</td>\n",
       "      <td>5.333929</td>\n",
       "    </tr>\n",
       "    <tr>\n",
       "      <th>potassium_serum_plasma</th>\n",
       "      <td>31102.0</td>\n",
       "      <td>0.000000</td>\n",
       "      <td>0.000000</td>\n",
       "      <td>0.000000</td>\n",
       "      <td>0.000000</td>\n",
       "      <td>0.000000</td>\n",
       "      <td>0.000000</td>\n",
       "      <td>0.000000</td>\n",
       "    </tr>\n",
       "    <tr>\n",
       "      <th>HbA1c</th>\n",
       "      <td>31102.0</td>\n",
       "      <td>-1.565338</td>\n",
       "      <td>1.484604</td>\n",
       "      <td>-6.333333</td>\n",
       "      <td>-2.233333</td>\n",
       "      <td>-1.600000</td>\n",
       "      <td>-1.200000</td>\n",
       "      <td>19.666667</td>\n",
       "    </tr>\n",
       "    <tr>\n",
       "      <th>baseline_age</th>\n",
       "      <td>31102.0</td>\n",
       "      <td>57.647064</td>\n",
       "      <td>7.871469</td>\n",
       "      <td>39.000000</td>\n",
       "      <td>52.000000</td>\n",
       "      <td>59.000000</td>\n",
       "      <td>64.000000</td>\n",
       "      <td>70.000000</td>\n",
       "    </tr>\n",
       "    <tr>\n",
       "      <th>sex</th>\n",
       "      <td>31102.0</td>\n",
       "      <td>0.475178</td>\n",
       "      <td>0.499392</td>\n",
       "      <td>0.000000</td>\n",
       "      <td>0.000000</td>\n",
       "      <td>0.000000</td>\n",
       "      <td>1.000000</td>\n",
       "      <td>1.000000</td>\n",
       "    </tr>\n",
       "  </tbody>\n",
       "</table>\n",
       "</div>"
      ],
      "text/plain": [
       "                          count       mean       std        min        25%   \n",
       "HDL                     31102.0   0.245788  0.765194  -1.897683  -0.305019  \\\n",
       "creatinine              31102.0  -0.165180  0.615704  -1.800000  -0.546429   \n",
       "glucose                 31102.0   0.907196  0.523737  -3.071233   0.557534   \n",
       "triglycerides           31102.0   0.826584  1.326366  -1.177640  -0.094410   \n",
       "LDL                     31102.0   0.438793  0.708119  -1.651114  -0.065193   \n",
       "potassium_serum_plasma  31102.0   0.000000  0.000000   0.000000   0.000000   \n",
       "HbA1c                   31102.0  -1.565338  1.484604  -6.333333  -2.233333   \n",
       "baseline_age            31102.0  57.647064  7.871469  39.000000  52.000000   \n",
       "sex                     31102.0   0.475178  0.499392   0.000000   0.000000   \n",
       "\n",
       "                              50%        75%        max  \n",
       "HDL                      0.131274   0.680985   5.403475  \n",
       "creatinine              -0.225000   0.142857  36.067857  \n",
       "glucose                  0.794521   1.200000   9.372603  \n",
       "triglycerides            0.495652   1.376398  12.468323  \n",
       "LDL                      0.409527   0.899691   5.333929  \n",
       "potassium_serum_plasma   0.000000   0.000000   0.000000  \n",
       "HbA1c                   -1.600000  -1.200000  19.666667  \n",
       "baseline_age            59.000000  64.000000  70.000000  \n",
       "sex                      0.000000   1.000000   1.000000  "
      ]
     },
     "execution_count": 85,
     "metadata": {},
     "output_type": "execute_result"
    }
   ],
   "source": [
    "X_scaled[\"potassium_serum_plasma\"] = 0\n",
    "X_scaled[VALID_FEATURES[TIME_SPECTRUM]].describe().T"
   ]
  },
  {
   "cell_type": "code",
   "execution_count": 86,
   "metadata": {},
   "outputs": [
    {
     "name": "stdout",
     "output_type": "stream",
     "text": [
      "972/972 [==============================] - 0s 318us/step\n"
     ]
    }
   ],
   "source": [
    "pred = model.predict(X_scaled[VALID_FEATURES[TIME_SPECTRUM]].to_numpy())"
   ]
  },
  {
   "cell_type": "code",
   "execution_count": 87,
   "metadata": {},
   "outputs": [
    {
     "name": "stdout",
     "output_type": "stream",
     "text": [
      "time spectra:  5\n"
     ]
    },
    {
     "name": "stdout",
     "output_type": "stream",
     "text": [
      "972/972 [==============================] - 1s 413us/step - loss: 0.9583 - tp: 1148.0000 - fp: 17459.0000 - tn: 12285.0000 - fn: 210.0000 - accuracy: 0.4319 - precision: 0.0617 - recall: 0.8454 - auc: 0.7628 - prc: 0.2266\n"
     ]
    }
   ],
   "source": [
    "print(f\"time spectra:  {TIME_SPECTRUM}\")\n",
    "eva = model.evaluate(X_scaled[VALID_FEATURES[TIME_SPECTRUM]].to_numpy(), y.to_numpy())"
   ]
  },
  {
   "cell_type": "code",
   "execution_count": 88,
   "metadata": {},
   "outputs": [
    {
     "data": {
      "text/plain": [
       "0.7626943833327656"
      ]
     },
     "execution_count": 88,
     "metadata": {},
     "output_type": "execute_result"
    }
   ],
   "source": [
    "from sklearn import metrics\n",
    "fpr, tpr, thresholds = metrics.roc_curve(y.to_numpy(), pred, pos_label=1)\n",
    "metrics.auc(fpr, tpr)"
   ]
  }
 ],
 "metadata": {
  "kernelspec": {
   "display_name": "Python 3",
   "language": "python",
   "name": "python3"
  },
  "language_info": {
   "codemirror_mode": {
    "name": "ipython",
    "version": 3
   },
   "file_extension": ".py",
   "mimetype": "text/x-python",
   "name": "python",
   "nbconvert_exporter": "python",
   "pygments_lexer": "ipython3",
   "version": "3.9.5"
  }
 },
 "nbformat": 4,
 "nbformat_minor": 2
}
