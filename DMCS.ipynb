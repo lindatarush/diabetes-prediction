{
 "cells": [
  {
   "cell_type": "markdown",
   "metadata": {},
   "source": [
    "# DMCS \n",
    "This notebook is dedicated to filter the diabetes patients based on the dmcs records, the inclusion criteria for inclusion is simple: the patient is confirmed with diabetes as long as he or she has record in the file, and the n"
   ]
  },
  {
   "cell_type": "code",
   "execution_count": null,
   "metadata": {},
   "outputs": [],
   "source": [
    "import util.cleaning_tools as tools\n",
    "import pandas as pd\n",
    "import numpy as np\n",
    "import os\n",
    "import re\n",
    "%load_ext autoreload\n",
    "%autoreload 2"
   ]
  },
  {
   "cell_type": "code",
   "execution_count": null,
   "metadata": {
    "scrolled": true
   },
   "outputs": [],
   "source": [
    "# read the data\n",
    "filepath = r'../DATAFILE'\n",
    "datafile = 'dmcs_data'\n",
    "usecols = [\"assessment_dtm\", \"dx_dtm\", \"pseudo_patient_key\"]\n",
    "dmcs_records = tools.fileReader(filepath, datafile)\n",
    "dmcs_records"
   ]
  },
  {
   "cell_type": "code",
   "execution_count": null,
   "metadata": {},
   "outputs": [],
   "source": [
    "patient_info = tools.fileReader(r\"../DATAFILE\", 'patient_data')"
   ]
  },
  {
   "cell_type": "code",
   "execution_count": null,
   "metadata": {
    "scrolled": false
   },
   "outputs": [],
   "source": [
    "dmcs_records.reset_index(drop=True, inplace=True)\n",
    "#only include type 2 dm\n",
    "dmcs_records = dmcs_records.query(\"dm_type_cd == 1\") # the code for type 2 dm is 1\n",
    "# find the earliest record for each person\n",
    "first_diag = dmcs_records[tools.row_number(dmcs_records, \"pseudo_patient_key\", sort_key=\"diff_in_hour_assessment_dtm\") == 1]"
   ]
  },
  {
   "cell_type": "code",
   "execution_count": null,
   "metadata": {
    "scrolled": true
   },
   "outputs": [],
   "source": [
    "# slice\n",
    "first_diag = first_diag[[\"pseudo_patient_key\", \"dx_dtm\", \"diff_in_hour_assessment_dtm\", \"assessment_dtm\"]]"
   ]
  },
  {
   "cell_type": "markdown",
   "metadata": {},
   "source": [
    "Some of the patients don't have diagnosis time, we just assume the assessment date is the dx_dtm, if assesment date is not null, we need to calculate the true difference hour using the time difference between dx_dtm and assessment_dtm."
   ]
  },
  {
   "cell_type": "code",
   "execution_count": null,
   "metadata": {},
   "outputs": [],
   "source": [
    "diff = pd.to_datetime(first_diag[\"assessment_dtm\"]) - pd.to_datetime(first_diag[\"dx_dtm\"])\n",
    "diff_hour = diff.apply(lambda x : x.days * 24)\n",
    "# if result is null then we replace it 0 so that assesment_dtm is the diagnosis time\n",
    "diff_hour.fillna(0, inplace=True)\n",
    "diff_hour = diff_hour.astype('int32')\n",
    "first_diag[\"diff_hour\"] = first_diag[\"diff_in_hour_assessment_dtm\"] - diff_hour"
   ]
  },
  {
   "cell_type": "code",
   "execution_count": null,
   "metadata": {},
   "outputs": [],
   "source": [
    "# fill the dx_time to stay consistent with diff_hour\n",
    "first_diag[\"dx_dtm\"] = first_diag.dx_dtm.fillna(first_diag.assessment_dtm)\n",
    "first_diag[\"diab_type\"] = \"diab\"\n",
    "first_diag = first_diag[[\"pseudo_patient_key\", \"dx_dtm\", \"diff_hour\", \"diab_type\"]]"
   ]
  },
  {
   "cell_type": "code",
   "execution_count": null,
   "metadata": {},
   "outputs": [],
   "source": [
    "#write to csv file\n",
    "first_diag[\"src\"] = \"dmcs\"\n",
    "first_diag.to_csv(r\"../tables/output/first_diag_dmcs.csv\")"
   ]
  },
  {
   "cell_type": "markdown",
   "metadata": {},
   "source": [
    "## Complications(deprecated)"
   ]
  },
  {
   "cell_type": "code",
   "execution_count": null,
   "metadata": {},
   "outputs": [],
   "source": [
    "tools.getNum(dmcs_records, False)"
   ]
  },
  {
   "cell_type": "code",
   "execution_count": null,
   "metadata": {},
   "outputs": [],
   "source": [
    "patient_info = tools.fileReader(r\"../DATAFILE\", 'patient_data')"
   ]
  },
  {
   "cell_type": "code",
   "execution_count": null,
   "metadata": {},
   "outputs": [],
   "source": [
    "print(\"the number of total records: {:,}\".format(dmcs_record.shape[0]))\n",
    "print(\"the number of total patients: {:,}\".format(dmcs_record.pseudo_patient_key.nunique()))"
   ]
  },
  {
   "cell_type": "markdown",
   "metadata": {},
   "source": [
    "Select the complications Columns accroding to the index of D02 on data catalogue\n",
    "\n",
    "eye_assess_dtm ~ nut_adjust_carbo_alcohol_cd\n",
    "\n",
    "chd_flag ~ nephropathy_cd \n",
    "\n",
    "pseudo_record_key ~ diff_in_hour_assessment_dtm"
   ]
  },
  {
   "cell_type": "code",
   "execution_count": null,
   "metadata": {},
   "outputs": [],
   "source": [
    "# read the target complications table\n",
    "comp_ls = pd.read_csv(\"../tables/comp_candidate.csv\")"
   ]
  },
  {
   "cell_type": "code",
   "execution_count": null,
   "metadata": {},
   "outputs": [],
   "source": [
    "# transfer csv table into dictionary as the basis of mapping\n",
    "d = dict([(comp,tag) for comp, tag in zip(comp_ls[\"complication\"],comp_ls[\"tag\"])])"
   ]
  },
  {
   "cell_type": "code",
   "execution_count": null,
   "metadata": {},
   "outputs": [],
   "source": [
    "# extract the target columns\n",
    "target_ls = comp_ls.complication.to_list()\n",
    "complications = dmcs_record.loc[:,target_ls]\n",
    "# convert the data type\n",
    "complications = complications.astype('str')"
   ]
  },
  {
   "cell_type": "markdown",
   "metadata": {},
   "source": [
    "Combine the left and right into single complication"
   ]
  },
  {
   "cell_type": "code",
   "execution_count": null,
   "metadata": {},
   "outputs": [],
   "source": [
    "# delete the right or left string field\n",
    "simplified_comp = complications.columns\n",
    "simplified_comp = simplified_comp.str.replace(r'_[rl]_.*','',regex=True).unique()\n",
    "simplified_comp = pd.Series(simplified_comp)\n",
    "simplified_comp.to_csv(\"../tables/simple_comp.csv\")"
   ]
  },
  {
   "cell_type": "code",
   "execution_count": null,
   "metadata": {},
   "outputs": [],
   "source": [
    "# create new complication dataframe that contains simple complications only\n",
    "new_comp_record = dmcs_record[['assessment_dtm',\n",
    "                               'dm_flag',\n",
    "                               'dx_dtm',\n",
    "                               'dm_type_cd',\n",
    "                               'pseudo_record_key',\n",
    "                               'pseudo_episode_key',\n",
    "                               'pseudo_patient_key',\n",
    "                               'diff_in_hour_assessment_dtm'\n",
    "                              ]]"
   ]
  },
  {
   "cell_type": "code",
   "execution_count": null,
   "metadata": {},
   "outputs": [],
   "source": [
    "# find out if the complication is true\n",
    "for comp, tag in d.items():\n",
    "    complications[comp] = complications[comp].isin(list(tag))"
   ]
  },
  {
   "cell_type": "code",
   "execution_count": null,
   "metadata": {},
   "outputs": [],
   "source": [
    "for comp in simplified_comp:\n",
    "    #initialize the complication columns as false\n",
    "    new_comp_record[comp] = False\n",
    "    for name, tag in d.items():\n",
    "        if comp == re.sub(r'_[rl]_.*', \"\", name):\n",
    "            # implement the 'or' logic, the field is true as long as one of the records is true\n",
    "            new_comp_record[comp] = new_comp_record[comp] | complications[name]\n",
    "new_comp_record"
   ]
  },
  {
   "cell_type": "code",
   "execution_count": null,
   "metadata": {},
   "outputs": [],
   "source": [
    "# convert the boolean data into int{0,1}\n",
    "new_comp_record.loc[:,'retina_sum_cd':'nephropathy_cd'] = new_comp_record.loc[:,'retina_sum_cd':'nephropathy_cd'].astype('int')\n",
    "new_comp_record"
   ]
  },
  {
   "cell_type": "code",
   "execution_count": null,
   "metadata": {},
   "outputs": [],
   "source": [
    "# deduplicate the patient records and return the unique complication history of every single patient.\n",
    "sum_field = new_comp_record.loc[:,'retina_sum_cd':'nephropathy_cd'].columns\n",
    "temp = new_comp_record.groupby(['pseudo_patient_key'])[sum_field].sum()"
   ]
  },
  {
   "cell_type": "code",
   "execution_count": null,
   "metadata": {},
   "outputs": [],
   "source": [
    "# replace the number that larger than 1 with 1 beacause the complication is repeatedly counted\n",
    "history_comp = temp.where(temp == 0, 1)"
   ]
  },
  {
   "cell_type": "code",
   "execution_count": null,
   "metadata": {},
   "outputs": [],
   "source": [
    "#sum up the number of complications\n",
    "n_comp = history_comp.sum(axis=1)"
   ]
  },
  {
   "cell_type": "code",
   "execution_count": null,
   "metadata": {
    "scrolled": false
   },
   "outputs": [],
   "source": [
    "# summary the number complications\n",
    "group = n_comp.groupby(n_comp)\n",
    "group.size()"
   ]
  },
  {
   "cell_type": "code",
   "execution_count": null,
   "metadata": {},
   "outputs": [],
   "source": [
    "test_prediab_record = pd.read_csv(r\"../tables/output/test_prediab_record.csv\")\n",
    "prediab_patient = test_prediab_record.pseudo_patient_key.unique()\n",
    "# filter the pre-diabetes patient in complication history\n",
    "history_comp_prediab = history_comp[history_comp.index.isin(list(prediab_patient))]"
   ]
  },
  {
   "cell_type": "code",
   "execution_count": null,
   "metadata": {},
   "outputs": [],
   "source": [
    "prediab_patient.shape"
   ]
  },
  {
   "cell_type": "code",
   "execution_count": null,
   "metadata": {},
   "outputs": [],
   "source": [
    "history_comp_prediab[\"n_comp\"] = history_comp_prediab.sum(axis=1)\n",
    "history_comp_prediab"
   ]
  },
  {
   "cell_type": "code",
   "execution_count": null,
   "metadata": {},
   "outputs": [],
   "source": [
    "n1 = history_comp_prediab[history_comp_prediab.n_comp == 0].shape[0]\n",
    "n2 = history_comp_prediab[history_comp_prediab.n_comp == 1].shape[0]\n",
    "n3 = history_comp_prediab[history_comp_prediab.n_comp > 1].shape[0]\n",
    "print(\"the number of patients whose complication number is 0: {}\".format(n1))\n",
    "print(\"the number of patients whose complication number is 1: {}\".format(n2))\n",
    "print(\"the number of patients whose complication number is greater than 1: {}\".format(n3))"
   ]
  },
  {
   "cell_type": "markdown",
   "metadata": {},
   "source": [
    "Plot the number new patient in the dmcs system and each patient's follow up time against each year"
   ]
  },
  {
   "cell_type": "code",
   "execution_count": null,
   "metadata": {},
   "outputs": [],
   "source": [
    "# number of new patient in dmcs system from 2003-2019\n",
    "import matplotlib.pyplot as plt\n",
    "# convert the year of each assessment date time\n",
    "dmcs_records[\"year\"] = dmcs_records[\"assessment_dtm\"].apply(lambda x : int(x[:4]))\n",
    "new_entry = dmcs_records.sort_values(\"assessment_dtm\").groupby([\"pseudo_patient_key\",\"year\"], as_index=False).apply(lambda x : x.head(1))\n",
    "new_entry_year = new_entry.groupby(\"year\", as_index=False)[\"pseudo_patient_key\"].count()\n",
    "new_entry_year.plot(kind='line', x = 'year', y='pseudo_patient_key', rot=30, legend=False)\n",
    "plt.xticks(new_entry_year[\"year\"])\n",
    "plt.ylabel(\"Number of patients\")\n",
    "plt.show()"
   ]
  },
  {
   "cell_type": "code",
   "execution_count": null,
   "metadata": {},
   "outputs": [],
   "source": [
    "# number follow-up for each year\n",
    "# follow-up: the records except the first visit\n",
    "\n",
    "# remove the first visit\n",
    "def rm_first(df):\n",
    "    if df.shape[0] == 0:\n",
    "        return None\n",
    "    else:\n",
    "        return df.iloc[1:,:]\n",
    "follow_up = dmcs_records.sort_values(\"assessment_dtm\").groupby(\"pseudo_patient_key\", as_index=False).apply(rm_first)"
   ]
  },
  {
   "cell_type": "code",
   "execution_count": null,
   "metadata": {},
   "outputs": [],
   "source": [
    "follow_up"
   ]
  }
 ],
 "metadata": {
  "kernelspec": {
   "display_name": "Python 3 (ipykernel)",
   "language": "python",
   "name": "python3"
  },
  "language_info": {
   "codemirror_mode": {
    "name": "ipython",
    "version": 3
   },
   "file_extension": ".py",
   "mimetype": "text/x-python",
   "name": "python",
   "nbconvert_exporter": "python",
   "pygments_lexer": "ipython3",
   "version": "3.9.5"
  }
 },
 "nbformat": 4,
 "nbformat_minor": 4
}
