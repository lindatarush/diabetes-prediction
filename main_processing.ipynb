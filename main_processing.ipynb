{
 "cells": [
  {
   "cell_type": "markdown",
   "metadata": {},
   "source": [
    "# Main Cleaning Process and Exploration Analysis\n",
    "**This notebook serves as the main data cleaning and processing module**\n",
    "\n",
    "In this notebook , I will \n",
    "1. Combine all the diagnosis records from different sections.\n",
    "2. Implement the chronological filtering to determine the earliest date of pre-diabetes and diabetes. \n",
    "3. Merge with demographic information and calculate the age of each time point(pre, diab, death)\n",
    "4. Exclude some invalid records and label the patients.\n",
    "5. Do the exploration analysis where I will give out the basic statistic and plot various of charts to illustrate the basic demographic outlines."
   ]
  },
  {
   "cell_type": "markdown",
   "metadata": {},
   "source": [
    "For clarity: we name all the pre-diabetes patients with prefix pre,diabetes patients with prefix diab and the patients progressed from pre-diabetes to diabetes with prefix pre2Diab.\n",
    "\n",
    "We also label the abnormal patients as follow:\n",
    "- Pre-diabetes Patient (Only have pre-diabetes): 0\n",
    "- Pre-diabetes to Diabetes paitient (the patients who has sign of pre-diabetes BEFORE they are diagosed with diabetes): 1\n",
    "- Diabetes (Only have diabetes or have earlier confirmed as diabetes than pre-diabetes): 2"
   ]
  },
  {
   "cell_type": "code",
   "execution_count": null,
   "metadata": {},
   "outputs": [],
   "source": [
    "# hyepr-parameter, time-spectrum: 2, 5, 10 year\n",
    "TIME_SPEC = 10\n",
    "CUT_OFF = '{year}-12-31'.format(year=2019-TIME_SPEC)"
   ]
  },
  {
   "cell_type": "markdown",
   "metadata": {},
   "source": [
    "## 1. Combine All The Records From Different  Sections"
   ]
  },
  {
   "cell_type": "markdown",
   "metadata": {},
   "source": [
    "We read all the table we want from disk:\n",
    "- Lab Test result\n",
    "- Diagnosis result (Diabetes Only)\n",
    "- Family Medicine\n",
    "- DMCS\n",
    "- Medication(drug)"
   ]
  },
  {
   "cell_type": "markdown",
   "metadata": {},
   "source": [
    "Import the modules"
   ]
  },
  {
   "cell_type": "code",
   "execution_count": null,
   "metadata": {},
   "outputs": [],
   "source": [
    "import pandas as pd\n",
    "import os\n",
    "import matplotlib.pyplot as plt\n",
    "import numpy as np\n",
    "%load_ext autoreload\n",
    "import cleaning_tools as tools\n",
    "import time\n",
    "import matplotlib.pyplot as plt\n",
    "from matplotlib.patches import Polygon\n",
    "\n",
    "from typing import *\n",
    "%autoreload 2"
   ]
  },
  {
   "cell_type": "code",
   "execution_count": null,
   "metadata": {},
   "outputs": [],
   "source": [
    "file_path = r'../tables/output'\n",
    "\n",
    "# read the diag result from each tables\n",
    "lab_diag = pd.read_csv(r'../tables/output/first_diag_lab.csv', index_col=0)\n",
    "dx_diag = pd.read_csv(r'../tables/output/first_diag_dx.csv', index_col=0)\n",
    "fm_diag = pd.read_csv(r'../tables/output/first_diag_fm.csv', index_col=0)\n",
    "dmcs_diag = pd.read_csv(r'../tables/output/first_diag_dmcs.csv', index_col=0)\n",
    "drug_diag = pd.read_csv(r'../tables/output/first_diag_drug.csv', index_col=0)"
   ]
  },
  {
   "cell_type": "code",
   "execution_count": null,
   "metadata": {},
   "outputs": [],
   "source": [
    "# combine the diagnosis together\n",
    "combine = pd.concat([lab_diag, dx_diag, fm_diag, dmcs_diag, drug_diag]).reset_index(drop=True)\n",
    "combine"
   ]
  },
  {
   "cell_type": "code",
   "execution_count": null,
   "metadata": {},
   "outputs": [],
   "source": [
    "# convert the data type\n",
    "combine[\"diff_hour\"] = combine[\"diff_hour\"].astype('int')"
   ]
  },
  {
   "cell_type": "markdown",
   "metadata": {},
   "source": [
    "## 2. Implement the Chronological Filtering"
   ]
  },
  {
   "cell_type": "markdown",
   "metadata": {},
   "source": [
    "Now, we got the patient diagnosis of pre-diabetes and diabetes for every patient. we need to seperate them into three groups:\n",
    "1. group 0: no pre-diabetes or diabetes records were earlier than pre-diabetes\n",
    "2. group 1: only pre-diabetes\n",
    "3. group 2: pre-diabetes to diabetes"
   ]
  },
  {
   "cell_type": "code",
   "execution_count": null,
   "metadata": {},
   "outputs": [],
   "source": [
    "start = time.time()\n",
    "\n",
    "def chronoFilter(df: pd.DataFrame) -> pd.DataFrame:\n",
    "    '''\n",
    "    callable object than can apply splittng rules that define each patient labels on each patient records. The splitting \n",
    "    rules are defined as follow:\n",
    "    - Pre-diabetes Patient (Only have pre-diabetes): 0\n",
    "    - Pre-diabetes to Diabetes paitient (the patients who has sign of pre-diabetes BEFORE they are diagosed with diabetes): 1\n",
    "    - Diabetes (Only have diabetes or have earlier confirmed as diabetes than pre-diabetes): 2\n",
    "    \n",
    "    Args:\n",
    "        df: grouped data frame that is waiting to be aggregated\n",
    "    Return:\n",
    "        aggregated data frame\n",
    "    \n",
    "    '''\n",
    "    \n",
    "    dim = df.shape[0]\n",
    "    assert dim <= 2 # make sure there are only earliest record(s) in this dataframe\n",
    "    \n",
    "    # one record only situation\n",
    "    if dim == 1: \n",
    "        if df.iloc[0][\"diab_type\"] == \"pre\":\n",
    "            return pd.DataFrame({\n",
    "                \"pseudo_patient_key\":[df.iloc[0,0]], \n",
    "                \"pre_dtm\": [df.iloc[0,1]],\n",
    "                \"diab_dtm\": [np.nan],\n",
    "                \"pre_diff_hour\": [df.iloc[0,2]],\n",
    "                \"diab_diff_hour\": [np.nan],\n",
    "                \"pre_src\": [df.iloc[0,4]],\n",
    "                \"diab_src\":[np.nan],\n",
    "                \"label\": [0]\n",
    "            })\n",
    "        else: #diabetes\n",
    "            return pd.DataFrame({\n",
    "            \"pseudo_patient_key\":[df.iloc[0,0]], \n",
    "            \"pre_dtm\": [np.nan], \n",
    "            \"diab_dtm\": [df.iloc[0,1]],\n",
    "            \"pre_diff_hour\": [np.nan],\n",
    "            \"diab_diff_hour\": [df.iloc[0,2]],\n",
    "            \"pre_src\": [np.nan],\n",
    "            \"diab_src\":[df.iloc[0,4]],\n",
    "            \"label\": [2]\n",
    "        })\n",
    "        \n",
    "    # two records situation\n",
    "    else: \n",
    "        if df.iloc[0][\"diff_hour\"] > df.iloc[1][\"diff_hour\"]: # pre to diabetes\n",
    "            return pd.DataFrame({\n",
    "            \"pseudo_patient_key\":[df.iloc[0,0]], \n",
    "            \"pre_dtm\": [df.iloc[1,1]], \n",
    "            \"diab_dtm\": [df.iloc[0,1]],\n",
    "            \"pre_diff_hour\": [df.iloc[1,2]],\n",
    "            \"diab_diff_hour\": [df.iloc[0,2]],\n",
    "            \"pre_src\": [df.iloc[1,4]],\n",
    "            \"diab_src\":[df.iloc[0,4]],\n",
    "            \"label\": [1]\n",
    "        })\n",
    "        else: # diabetes to pre\n",
    "            return pd.DataFrame({\n",
    "            \"pseudo_patient_key\":[df.iloc[0,0]], \n",
    "            \"pre_dtm\": [np.nan], \n",
    "            \"diab_dtm\": [df.iloc[0,1]],\n",
    "            \"pre_diff_hour\": [np.nan],\n",
    "            \"diab_diff_hour\": [df.iloc[0,2]],\n",
    "            \"pre_src\": [np.nan],\n",
    "            \"diab_src\":[df.iloc[0,4]],\n",
    "            \"label\": [2]\n",
    "        })\n",
    "\n",
    "        \n",
    "#######################################################################################\n",
    "# get the row number \n",
    "rnk = tools.row_number(combine, \"pseudo_patient_key\", \"diab_type\", sort_key=\"diff_hour\")\n",
    "# get the earliest records for each patient each diab type\n",
    "el_rec = combine[rnk == 1].sort_values([\"pseudo_patient_key\", \"diab_type\"])\n",
    "# apply the rules on the dataframe\n",
    "group_patient = el_rec.groupby(by=\"pseudo_patient_key\").apply(chronoFilter)\n",
    "# write the data to disk\n",
    "group_patient.to_csv(\"../tables/output/group_patient.csv\")\n",
    "\n",
    "min = (time.time() - start) / 60\n",
    "print(\"runtime: {:.4f} minutes\".format(min))"
   ]
  },
  {
   "cell_type": "markdown",
   "metadata": {},
   "source": [
    "## 3. Merge with demographic information and test results."
   ]
  },
  {
   "cell_type": "markdown",
   "metadata": {},
   "source": [
    "### 3.1 Demographic Infomation"
   ]
  },
  {
   "cell_type": "code",
   "execution_count": null,
   "metadata": {},
   "outputs": [],
   "source": [
    "# read the file of patient demographic information\n",
    "patient_info = tools.fileReader(r\"../DATAFILE\", 'patient_data')\n",
    "# read the grouped patients\n",
    "group_patient = pd.read_csv(r\"../tables/output/group_patient.csv\", index_col=0)"
   ]
  },
  {
   "cell_type": "code",
   "execution_count": null,
   "metadata": {},
   "outputs": [],
   "source": [
    "left = group_patient\n",
    "right = patient_info[[\"pseudo_patient_key\", \"dob_Y\", \"sex\", \"death_date_Y\", \"diff_in_hour_death_date\"]]\n",
    "diab_patients_info = pd.merge(left=left, right=right, how='left', on='pseudo_patient_key')"
   ]
  },
  {
   "cell_type": "markdown",
   "metadata": {},
   "source": [
    "Get the age of each date time."
   ]
  },
  {
   "cell_type": "code",
   "execution_count": null,
   "metadata": {},
   "outputs": [],
   "source": [
    "def map_age(df, fields, dob=\"dob_Y\"):\n",
    "    '''\n",
    "    map the date time fieds into age inplace\n",
    "    Args:\n",
    "        field: date fields\n",
    "        dob: date of birth\n",
    "    '''\n",
    "        \n",
    "    age_fields = list(map(lambda x : x.split(r'_')[0] + \"_age\", fields))\n",
    "    for af, f in zip(age_fields, fields):\n",
    "        df[af] = (pd.to_datetime(df[f]) - pd.to_datetime(df[dob])).apply(lambda x : x / np.timedelta64(1, \"Y\"))\n",
    "        \n",
    "######################################################################################################################  \n",
    "\n",
    "# replace null value to np.nan\n",
    "diab_patient_age = diab_patients_info.replace(r'\"\"', np.nan)\n",
    "# map the date time fields into age inplace\n",
    "map_age(diab_patient_age, [\"pre_dtm\", \"diab_dtm\", \"death_date_Y\"])"
   ]
  },
  {
   "cell_type": "markdown",
   "metadata": {},
   "source": [
    "## 4 Exclusion and Labeling"
   ]
  },
  {
   "cell_type": "markdown",
   "metadata": {},
   "source": [
    "### 4.1 Exclusion\n",
    "exclusion criterial:\n",
    " - Enrolment in last {{TIME_SPEC}} (pre_dtm <= {{CUT_OFF}})\n",
    " - Follow up time is less than {{TIME_SPEC}}, we want to exclude the patients who exited the investigation out of death.\n",
    " - Diabetes only.\n",
    " - Patients younger than 18 (pre_age < 18)"
   ]
  },
  {
   "cell_type": "code",
   "execution_count": null,
   "metadata": {},
   "outputs": [],
   "source": [
    "# convert to year of birth\n",
    "diab_patient_age[\"dob_Y\"] = diab_patient_age[\"dob_Y\"].apply(lambda x : x[:4]).astype(\"int\")\n",
    "# compute the progression period in hours\n",
    "diab_patient_age[\"prog_pd\"] = diab_patient_age[\"diab_diff_hour\"] - diab_patient_age[\"pre_diff_hour\"] \n",
    "diab_patient_age[\"diff_in_hour_death_date\"] = diab_patient_age[\"diff_in_hour_death_date\"].astype(\"float\")"
   ]
  },
  {
   "cell_type": "code",
   "execution_count": null,
   "metadata": {},
   "outputs": [],
   "source": [
    "MIN_FT = 30.5 * 24\n",
    "# exclusion\n",
    "\n",
    "def show_num():\n",
    "    print(diab_patient_excluded.shape[0], diab_patient_excluded.query(\"label == 0\").shape[0], diab_patient_excluded.query(\"label == 1\").shape[0])\n",
    "    \n",
    "diab_patient_excluded = diab_patient_age # create a new reference\n",
    "\n",
    "show_num()\n",
    "# Enrolment in the first year and last three year (pre_dtm > 2003-12-31 and pre_dtm <= 2014-12-31)\n",
    "diab_patient_excluded = diab_patient_excluded.query(f\"pre_dtm <= '{CUT_OFF}' or label == 2\")\n",
    "show_num()\n",
    "\n",
    "# Follow up time is less than {{TIME_SPEC}}\n",
    "death_diff_hour = TIME_SPEC * 365.25 * 24\n",
    "diab_patient_excluded = diab_patient_excluded.query(f\"diff_in_hour_death_date - pre_diff_hour > {death_diff_hour} \\\n",
    "| diff_in_hour_death_date.isnull()\", engine='python')\n",
    "show_num()\n",
    "\n",
    "# Diabetes only.\n",
    "diab_patient_excluded = diab_patient_excluded.query(\"label < 2\")\n",
    "show_num()\n",
    "\n",
    "# Patients younger than 18(pre_age < 18)\n",
    "diab_patient_excluded = diab_patient_excluded.query(\"pre_age >= 18\")\n",
    "show_num()\n",
    "\n",
    "# # Follow-up time less than 1 month i.e. 30.5*24 hours\n",
    "# diab_patient_age = diab_patient_age.query(f\"prog_pd > {MIN_FT} | prog_pd.isnull()\", engine='python')\n"
   ]
  },
  {
   "cell_type": "markdown",
   "metadata": {},
   "source": [
    "### 4.2 Labeling"
   ]
  },
  {
   "cell_type": "code",
   "execution_count": null,
   "metadata": {},
   "outputs": [],
   "source": [
    "# diab_patient_age = diab_patient_age.assign(prog_pd = diab_patient_age[\"diab_diff_hour\"] - diab_patient_age[\"pre_diff_hour\"])\n",
    "PERIOD_LONG = TIME_SPEC * 365.25 * 24\n",
    "def cls_mapper(prog_pd: float) -> int:\n",
    "    if prog_pd < PERIOD_LONG:\n",
    "        return 1\n",
    "    else:\n",
    "        return 0\n",
    "    \n",
    "diab_patient_excluded[\"cls\"] = diab_patient_excluded[\"prog_pd\"].apply(cls_mapper)"
   ]
  },
  {
   "cell_type": "code",
   "execution_count": null,
   "metadata": {},
   "outputs": [],
   "source": [
    "# diab_patient_excluded.to_csv(f\"../tables/output/diab_patient-{TIME_SPEC}year.csv\")\n",
    "diab_patient_excluded = pd.read_csv(f\"../tables/output/diab_patient-{TIME_SPEC}year.csv\", index_col=0)"
   ]
  },
  {
   "cell_type": "markdown",
   "metadata": {},
   "source": [
    "## 5. Descriptive Summary"
   ]
  },
  {
   "cell_type": "code",
   "execution_count": null,
   "metadata": {},
   "outputs": [],
   "source": [
    "# define helper fuctions\n",
    "def plot_barchart(s:pd.Series, n_bin:int, bin_width:int=1, sort=False, title=\"\"):\n",
    "    bin = pd.cut(s, bins=[bin_width * i for i in range(n_bin)])\n",
    "    out = bin.value_counts(sort=sort)\n",
    "    ax = out.plot.bar(rot=0, color='b', figsize=(6,4))\n",
    "    ax.set_xticklabels([bin_width * x for x in range(n_bin)])\n",
    "    ax.set_title(title)\n",
    "\n",
    "def plot_boxplot(df, cat, title):\n",
    "    # boxplot for death age\n",
    "    fig, axs = plt.subplots(1,len(cat))\n",
    "    fig.suptitle(title)\n",
    "    for idx, name in zip(range(len(cat)), cat):\n",
    "        data = df[df.label == idx][\"death_age\"]\n",
    "        axs[idx].boxplot(data, 0, '')\n",
    "        axs[idx].set_title(name)\n",
    "    \n",
    "\n",
    "def show_number(df):\n",
    "    tools.getNum(df, False)"
   ]
  },
  {
   "cell_type": "code",
   "execution_count": null,
   "metadata": {},
   "outputs": [],
   "source": [
    "diab_patient_excluded[\"dob_Y\"]"
   ]
  },
  {
   "cell_type": "markdown",
   "metadata": {},
   "source": [
    "Plot the bar chart against each group of patients."
   ]
  },
  {
   "cell_type": "code",
   "execution_count": null,
   "metadata": {},
   "outputs": [],
   "source": [
    "fig, ax = plt.subplots(figsize=(6,4))\n",
    "\n",
    "count = diab_patient_excluded.groupby(\"label\")[\"label\"].count()\n",
    "\n",
    "group = [\"pre-diabetes only\", \"pre-diabetes to diabetes\"]\n",
    "bar_color = ['tab:red', 'tab:blue']\n",
    "ax.bar(group, count, label = group, color = bar_color)\n",
    "\n",
    "ax.set_ylabel(\"patients number\")\n",
    "ax.set_title(\"patients number of each group\")\n",
    "\n",
    "for i, v in enumerate(count.to_list()):\n",
    "    plt.text(i, v, \"{:,}\".format(v), ha = 'center')\n",
    "# plt.savefig(os.path.join(OUT_PATH, \"chart\", \"patients_number.png\"))"
   ]
  },
  {
   "cell_type": "code",
   "execution_count": null,
   "metadata": {},
   "outputs": [],
   "source": [
    "death = diab_patient_excluded[diab_patient_age.death_age.notnull()]\n",
    "pre = diab_patient_excluded[diab_patient_age.label == 0]\n",
    "pre2diab = diab_patient_excluded[diab_patient_age.label == 1]\n",
    "diab = diab_patient_excluded[diab_patient_age.label == 2]"
   ]
  },
  {
   "cell_type": "code",
   "execution_count": null,
   "metadata": {},
   "outputs": [],
   "source": [
    "fig, ax = plt.subplots(figsize=(6,4))\n",
    "count = death.groupby(\"label\")[\"label\"].count()\n",
    "\n",
    "group = [\"pre-diabetes only\", \"pre-diabetes to diabetes\"]\n",
    "bar_color = ['tab:green', 'tab:purple', 'tab:pink']\n",
    "ax.bar(group, count, label = group, color = bar_color)\n",
    "\n",
    "ax.set_ylabel(\"patients number\")\n",
    "ax.set_title(\"death number of each class\")\n",
    "\n",
    "for i, v in enumerate(count.to_list()):\n",
    "    plt.text(i, v, \"{:,}\".format(v), ha = 'center')\n",
    "plt.savefig(os.path.join(OUT_PATH,\"charts\", \"death_class.png\"))"
   ]
  },
  {
   "cell_type": "markdown",
   "metadata": {},
   "source": [
    "### Prediabetes Distribution Against Age"
   ]
  },
  {
   "cell_type": "code",
   "execution_count": null,
   "metadata": {},
   "outputs": [],
   "source": [
    "# pre diabetes distribution against age\n",
    "bin = pd.cut(pre.pre_age, bins=[5 * (i) for i in range(3,23)])\n",
    "out = bin.value_counts(sort=False)\n",
    "ax = out.plot.bar(rot=30, color='b', figsize=(8,4))\n",
    "ax.set_xticklabels([\"18-20\"] + [f\"{i*5}-{i*5+5}\" for i in range(4, 23)])\n",
    "ax.set_xlabel(\"Age\")\n",
    "ax.set_ylabel(\"Number\")\n",
    "_ = ax.set_title(\"Distribution of prediabetes against age\")\n",
    "# plt.savefig(os.path.join(OUT_PATH,\"charts\", \"distribution_pre_age.png\"))"
   ]
  },
  {
   "cell_type": "code",
   "execution_count": null,
   "metadata": {},
   "outputs": [],
   "source": [
    "temp = diab_patient_excluded.assign(pre_year = diab_patient_age[\"pre_dtm\"].apply(lambda s : str(s)[:4]))\n",
    "bin = pd.cut(temp[\"pre_age\"], bins=[5 * (i) for i in range(3,23)])\n",
    "temp[\"age_bin\"] = bin\n",
    "idx_to_dx = {0: \"class0\", 1: \"class1\"}\n",
    "temp[\"cls\"] = temp[\"cls\"].apply(lambda x : idx_to_dx[x])\n",
    "temp_group = temp.groupby([\"age_bin\", \"cls\"]).size().unstack()\n",
    "percent = (temp_group[\"class1\"] / (temp_group[\"class1\"] + temp_group[\"class0\"])) * 100\n",
    "ax = temp_group.plot(kind=\"bar\", stacked=True, colormap=\"Set2\", figsize=(12, 6))\n",
    "mid = temp_group[\"class1\"] / 2 + temp_group[\"class0\"]\n",
    "\n",
    "for con in ax.containers:\n",
    "    plt.setp(con, width=0.5)\n",
    "\n",
    "x0, x1 = ax.get_xlim()\n",
    "ax.set_xlim(x0-1, x1+1)\n",
    "\n",
    "for i,per in enumerate(percent):\n",
    "    plt.text(i, mid[i], str(np.round(per,1)) + '%', va='center', ha='center', fontsize=\"small\")\n",
    "\n",
    "ax.set_ylabel(\"Number of patients\")\n",
    "ax.set_xlabel(\"Age of confirming prediabetes\")\n",
    "ax.set_xticklabels([\"18-20\"] + [f\"{i*5}-{i*5+5}\" for i in range(3, 23)], rotation=40)\n",
    "_ = ax.set_title(\"Patients of different class portion against prediabetes confirmation time (Age)\")"
   ]
  },
  {
   "cell_type": "markdown",
   "metadata": {},
   "source": [
    "### Prediabetes Distribution Against Calendar Year"
   ]
  },
  {
   "cell_type": "markdown",
   "metadata": {},
   "source": [
    "pre-diabetes only and pre-to-diabetes patients portion against each year"
   ]
  },
  {
   "cell_type": "code",
   "execution_count": null,
   "metadata": {},
   "outputs": [],
   "source": [
    "temp = diab_patient_excluded.assign(pre_year = diab_patient_age[\"pre_dtm\"].apply(lambda s : str(s)[:4]))\n",
    "idx_to_dx = {0: \"class0\", 1: \"class1\"}\n",
    "temp[\"cls\"] = temp[\"cls\"].apply(lambda x : idx_to_dx[x])\n",
    "temp_group = temp.groupby([\"pre_year\", \"cls\"]).size().unstack()\n",
    "percent = (temp_group[\"class1\"] / (temp_group[\"class1\"] + temp_group[\"class0\"])) * 100\n",
    "ax = temp_group.plot(kind=\"bar\", stacked=True, colormap=\"Set2\", figsize=(12, 6))\n",
    "mid = temp_group[\"class1\"] / 2 + temp_group[\"class0\"]\n",
    "\n",
    "for con in ax.containers:\n",
    "    plt.setp(con, width=0.5)\n",
    "\n",
    "x0, x1 = ax.get_xlim()\n",
    "ax.set_xlim(x0-1, x1+1)\n",
    "\n",
    "for i,per in enumerate(percent):\n",
    "    plt.text(i, mid[i], str(np.round(per,1)) + '%', va='center', ha='center')\n",
    "\n",
    "ax.set_ylabel(\"Number of patients\")\n",
    "ax.set_xlabel(\"Year of confirming prediabetes\")\n",
    "ax.set_xticklabels(temp_group.index, rotation=40)\n",
    "_ = ax.set_title(\"Patients of different class portion against prediabetes confirmation time(year)\")\n",
    "# plt.savefig(os.path.join(OUT_PATH,\"charts\", \"patient_portion_each_class.png\"))\n",
    "# plt.savefig(os.path.join(OUT_PATH,\"charts\", \"survival_curve.png\"))"
   ]
  },
  {
   "cell_type": "code",
   "execution_count": null,
   "metadata": {},
   "outputs": [],
   "source": [
    "temp_group"
   ]
  },
  {
   "cell_type": "code",
   "execution_count": null,
   "metadata": {
    "scrolled": true
   },
   "outputs": [],
   "source": [
    "years = [f'{x}-01-01' for x in range(2004,2018)]\n",
    "cnt = []\n",
    "INTV = 1\n",
    "age = [INTV*i for i in range(20//INTV,90//INTV + 1)]\n",
    "for a in age:\n",
    "    cnt.append(diab_patient_age.query(f\"diab_age < {a} and not (death_age < {a})\")[\"pseudo_patient_key\"].count())\n",
    "    \n",
    "surv = [diab_patient_age.shape[0] - c for c in cnt]\n",
    "\n",
    "###################### plot ##########################\n",
    "fig, ax = plt.subplots(figsize=(10,5))\n",
    "ax.step(age, surv, 'k-', color='r')\n",
    "ax.set_xticks([5*i for i in range(4,19)])\n",
    "ax.tick_params(axis='x', labelrotation=45)\n",
    "ax.set_xlabel(\"Prediabetes age\")\n",
    "ax.set_ylabel(\"Number of patients\")\n",
    "_ = ax.set_title(\"T2DM progression survival curve\")\n",
    "plt.savefig(os.path.join(OUT_PATH,\"charts\", \"survival_curve.png\"))"
   ]
  },
  {
   "cell_type": "code",
   "execution_count": null,
   "metadata": {},
   "outputs": [],
   "source": [
    "# investigate the progress free period against the age\n",
    "data = pre2diab.assign(period = pre2diab.diab_age - pre2diab.pre_age)[[\"pre_age\", \"diab_age\", \"death_age\", \"period\"]]\n",
    "bin = pd.cut(data.pre_age, bins = [5 * i for i in range(3,23)])\n",
    "data = data.assign(bin = bin)\n",
    "out = data.groupby(\"bin\").agg({\"period\":[\"count\",\"mean\"]})\n",
    "\n",
    "###################### plot ##########################\n",
    "ax = out[\"period\"][\"mean\"].plot.bar(rot=30, color='b', figsize=(10,4))\n",
    "ax.plot([\"18-20\"] + [f\"{i*5}-{i*5+5}\" for i in range(4, 22)],out[\"period\"][\"mean\"].tolist())\n",
    "ax.set_xticklabels([\"18-20\"] + [f\"{i*5}-{i*5+5}\" for i in range(4, 22)])\n",
    "ax.set_xlabel(\"Age\")\n",
    "ax.set_ylabel(\"Year\")\n",
    "ax.set_ylim([0,6])\n",
    "_ = ax.set_title(\"Mean progression period with respect to prediabetes age\")"
   ]
  }
 ],
 "metadata": {
  "kernelspec": {
   "display_name": "Python 3 (ipykernel)",
   "language": "python",
   "name": "python3"
  },
  "language_info": {
   "codemirror_mode": {
    "name": "ipython",
    "version": 3
   },
   "file_extension": ".py",
   "mimetype": "text/x-python",
   "name": "python",
   "nbconvert_exporter": "python",
   "pygments_lexer": "ipython3",
   "version": "3.7.3"
  }
 },
 "nbformat": 4,
 "nbformat_minor": 4
}
