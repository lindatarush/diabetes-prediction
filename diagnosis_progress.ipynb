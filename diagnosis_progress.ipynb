{
 "cells": [
  {
   "cell_type": "markdown",
   "id": "dfc9387a",
   "metadata": {},
   "source": [
    "# Diagnosis Pogress\n",
    "This note book is dedicated to select diabetes patient based on their diagnosis progress data source, the inclusion criterial is based on the corresponding ICD code. This notebook includes following sections:\n",
    "1. Read the files\n",
    "2. Find out the first date of diagnosis\n",
    "3. Write to disk"
   ]
  },
  {
   "cell_type": "markdown",
   "id": "1aff95de",
   "metadata": {},
   "source": [
    "## Read the files"
   ]
  },
  {
   "cell_type": "code",
   "execution_count": null,
   "id": "ebdeaa3f",
   "metadata": {},
   "outputs": [],
   "source": [
    "import pandas as pd \n",
    "import os\n",
    "import numpy as np\n",
    "import util.cleaning_tools as tools\n",
    "import re\n",
    "from datetime import datetime\n",
    "%load_ext autoreload\n",
    "%autoreload 2"
   ]
  },
  {
   "cell_type": "code",
   "execution_count": null,
   "id": "76fc8556",
   "metadata": {},
   "outputs": [],
   "source": [
    "# read the demographic table \n",
    "dgp = tools.fileReader(r'../DATAFILE', 'patient_data')\n",
    "dgp = dgp[['dob_Y','pseudo_patient_key']]"
   ]
  },
  {
   "cell_type": "markdown",
   "id": "5d420d28",
   "metadata": {},
   "source": [
    "### Read the diagnosis basis defined by file T2DM0615.csv"
   ]
  },
  {
   "cell_type": "code",
   "execution_count": null,
   "id": "16cdc445",
   "metadata": {},
   "outputs": [],
   "source": [
    "# read the diabetes diagnosis ICD9-CM mapping table\n",
    "diab_mapping = pd.read_csv(r'../tables/input/T2DM0615.csv',header=0)"
   ]
  },
  {
   "cell_type": "code",
   "execution_count": null,
   "id": "655adea7",
   "metadata": {},
   "outputs": [],
   "source": [
    "#read the diagnosis table mdl_dx_progress.dat.*\n",
    "dx_progress = tools.fileReader(r'../DATAFILE','mdl_dx_progress')"
   ]
  },
  {
   "cell_type": "code",
   "execution_count": null,
   "id": "6d533626",
   "metadata": {},
   "outputs": [],
   "source": [
    "patients = pd.read_csv(r'../tables/output/group_patient_age.csv', index_col=0)"
   ]
  },
  {
   "cell_type": "code",
   "execution_count": null,
   "id": "7504d232",
   "metadata": {},
   "outputs": [],
   "source": [
    "#table diab_patient contains all the diabetes diagnoisis records\n",
    "diab_records = pd.merge(dx_progress, diab_mapping, how='inner', left_on='term_id', right_on='Term ID')\n",
    "# subset the table\n",
    "diab_patients = diab_records[[\"pseudo_patient_key\", \"reference_dtm\", \"diff_in_hour_reference_dtm\"]]\n"
   ]
  },
  {
   "cell_type": "markdown",
   "id": "1c36dc10",
   "metadata": {},
   "source": [
    "### Find out the first date of diagnosis"
   ]
  },
  {
   "cell_type": "code",
   "execution_count": null,
   "id": "b656a980",
   "metadata": {},
   "outputs": [],
   "source": [
    "first_dx = diab_patients[tools.row_number(diab_patients, \"pseudo_patient_key\",sort_key=\"reference_dtm\") == 1]"
   ]
  },
  {
   "cell_type": "markdown",
   "id": "2c3d1b79",
   "metadata": {},
   "source": [
    "### Write to disk"
   ]
  },
  {
   "cell_type": "code",
   "execution_count": null,
   "id": "2797ba17",
   "metadata": {},
   "outputs": [],
   "source": [
    "#rename to fit the protocol of the fields\n",
    "first_dx.rename({\"reference_dtm\":\"dx_dtm\", \"diff_in_hour_reference_dtm\": \"diff_hour\"}, axis='columns', inplace=True)\n",
    "# add the source\n",
    "first_dx[\"src\"] = \"dx\"\n",
    "# add the diabetes type\n",
    "diab_patients[\"diab_type\"] = \"diab\"\n",
    "# write to disk\n",
    "first_dx.to_csv(r\"../tables/output/first_diag_dx.csv\")"
   ]
  }
 ],
 "metadata": {
  "kernelspec": {
   "display_name": "Python 3 (ipykernel)",
   "language": "python",
   "name": "python3"
  },
  "language_info": {
   "codemirror_mode": {
    "name": "ipython",
    "version": 3
   },
   "file_extension": ".py",
   "mimetype": "text/x-python",
   "name": "python",
   "nbconvert_exporter": "python",
   "pygments_lexer": "ipython3",
   "version": "3.7.3"
  }
 },
 "nbformat": 4,
 "nbformat_minor": 5
}
