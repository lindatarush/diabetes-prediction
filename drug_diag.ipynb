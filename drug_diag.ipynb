{
 "cells": [
  {
   "cell_type": "markdown",
   "metadata": {},
   "source": [
    "# Drug prescription\n",
    "This note book is dedicated to select diabetes patient based on their drug prescription data source, the inclusion criterial is based on the provided input file drug.csv. This notebook include following sections:\n",
    "1. Read the files\n",
    "2. Filtering\n",
    "3. Find the earliest date for each patient"
   ]
  },
  {
   "cell_type": "markdown",
   "metadata": {},
   "source": [
    "## Read the file"
   ]
  },
  {
   "cell_type": "code",
   "execution_count": null,
   "metadata": {
    "scrolled": false
   },
   "outputs": [],
   "source": [
    "import util.cleaning_tools as tools\n",
    "from typing import *\n",
    "import pandas as pd\n",
    "import numpy as np\n",
    "import os\n",
    "import re\n",
    "%load_ext autoreload\n",
    "%autoreload 2"
   ]
  },
  {
   "cell_type": "code",
   "execution_count": null,
   "metadata": {
    "scrolled": true
   },
   "outputs": [],
   "source": [
    "drug_records = tools.fileReader(r'../DATAFILE', r'phs_presc_data')"
   ]
  },
  {
   "cell_type": "code",
   "execution_count": null,
   "metadata": {},
   "outputs": [],
   "source": [
    "drug = pd.read_csv(r'../tables/input/drug.csv', header=0, index_col=0)"
   ]
  },
  {
   "cell_type": "code",
   "execution_count": null,
   "metadata": {},
   "outputs": [],
   "source": [
    "drug_desc = tools.fileReader(r'../DATAFILE', r'phs_drugs')"
   ]
  },
  {
   "cell_type": "markdown",
   "metadata": {},
   "source": [
    "## Filtering\n",
    "I first select the drug of diabetes-relevant and exlcude some of the drug based on advices provided by Doctors."
   ]
  },
  {
   "cell_type": "code",
   "execution_count": null,
   "metadata": {},
   "outputs": [],
   "source": [
    "def getDiabDrug(drugnames:List[str]) -> pd.DataFrame:\n",
    "    '''\n",
    "    select the records of interested drugs\n",
    "    Args:\n",
    "        drugnames: list of drug names\n",
    "    Return:\n",
    "        targetd drugs and its' description\n",
    "    '''\n",
    "    temp = [drug_desc[drug_desc.drugname.str.contains(name)] for name in drugnames]\n",
    "    return pd.concat(temp)\n",
    "diab_drug = getDiabDrug([\"INSULIN\",\"VILDAGLIPTIN\",\"GLUCAGON\"])"
   ]
  },
  {
   "cell_type": "code",
   "execution_count": null,
   "metadata": {},
   "outputs": [],
   "source": [
    "# diab_drug.to_csv(r'../tables/output/diab_drug.csv')"
   ]
  },
  {
   "cell_type": "markdown",
   "metadata": {},
   "source": [
    "As suggested by Dr.Chu , we need to exclude items of non DM-medicine"
   ]
  },
  {
   "cell_type": "code",
   "execution_count": null,
   "metadata": {},
   "outputs": [],
   "source": [
    "diab_drug_filtered = diab_drug.drop(index=[234,1579,3993,4148,8352,8691,9423,9760,9786,10713])"
   ]
  },
  {
   "cell_type": "markdown",
   "metadata": {},
   "source": [
    "Join with the data table."
   ]
  },
  {
   "cell_type": "code",
   "execution_count": null,
   "metadata": {},
   "outputs": [],
   "source": [
    "diab_record = pd.merge(left=drug_records, right=diab_drug_filtered, how='inner', left_on='item_cd', right_on='itemcode')"
   ]
  },
  {
   "cell_type": "markdown",
   "metadata": {},
   "source": [
    "## Find the earliest date for each patient\n",
    "Find out the earliest date of takig diabetes drug for each patient, we are only interested in the earliest records of prescription."
   ]
  },
  {
   "cell_type": "code",
   "execution_count": null,
   "metadata": {},
   "outputs": [],
   "source": [
    "# find the row number\n",
    "diab_record_rnk = tools.row_number(diab_record, \"pseudo_patient_key\", sort_key=\"disp_dtm\")\n",
    "diab_record[\"rnk\"] = diab_record_rnk\n",
    "first_diag = diab_record[diab_record.rnk == 1][[\"pseudo_patient_key\", \"presc_start_dtm\", \"diff_in_hour_dispense_dtm\"]]"
   ]
  },
  {
   "cell_type": "markdown",
   "metadata": {},
   "source": [
    "## Write to disk"
   ]
  },
  {
   "cell_type": "code",
   "execution_count": null,
   "metadata": {},
   "outputs": [],
   "source": [
    "first_diag[\"diab_type\"] = \"diab\" # this data source only provide diabetes evidences.\n",
    "first_diag[\"src\"] = \"drug\"\n",
    "# rename\n",
    "first_diag.rename(columns={'presc_start_dtm':\"dx_dtm\", \"diff_in_hour_dispense_dtm\": \"diff_hour\"}, inplace=True)"
   ]
  },
  {
   "cell_type": "code",
   "execution_count": null,
   "metadata": {},
   "outputs": [],
   "source": [
    "# write to csv file\n",
    "first_diag.to_csv(r'../tables/output/first_diag_drug.csv')"
   ]
  }
 ],
 "metadata": {
  "kernelspec": {
   "display_name": "Python 3 (ipykernel)",
   "language": "python",
   "name": "python3"
  },
  "language_info": {
   "codemirror_mode": {
    "name": "ipython",
    "version": 3
   },
   "file_extension": ".py",
   "mimetype": "text/x-python",
   "name": "python",
   "nbconvert_exporter": "python",
   "pygments_lexer": "ipython3",
   "version": "3.7.3"
  }
 },
 "nbformat": 4,
 "nbformat_minor": 4
}
