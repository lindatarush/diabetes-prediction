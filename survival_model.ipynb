{
 "cells": [
  {
   "cell_type": "code",
   "execution_count": null,
   "metadata": {},
   "outputs": [],
   "source": [
    "from lifelines import CoxPHFitter, datasets\n",
    "import pandas as pd\n",
    "import os\n",
    "import matplotlib as mpl\n",
    "import matplotlib.pyplot as plt\n",
    "import numpy as np\n",
    "\n",
    "import util.cleaning_tools as tools\n",
    "\n",
    "\n",
    "import matplotlib.pyplot as plt\n",
    "import seaborn as sns\n",
    "\n",
    "from imblearn.over_sampling import RandomOverSampler, SMOTE\n",
    "\n",
    "import sklearn\n",
    "from sklearn.model_selection import train_test_split, GridSearchCV, cross_val_score\n",
    "from sklearn.metrics import balanced_accuracy_score, classification_report, confusion_matrix, ConfusionMatrixDisplay,\\\n",
    "precision_recall_curve, auc, roc_auc_score, roc_curve, recall_score\n",
    "from sklearn.feature_selection import SelectKBest, f_classif, chi2,f_regression\n",
    "from sklearn.preprocessing import StandardScaler, RobustScaler\n",
    "from sklearn.linear_model import LogisticRegression, SGDClassifier\n",
    "from sklearn.neighbors import KNeighborsClassifier\n",
    "from sklearn.svm import SVC\n",
    "from sklearn.ensemble import RandomForestClassifier, VotingClassifier, GradientBoostingClassifier, AdaBoostClassifier\n",
    "from sklearn.experimental import enable_iterative_imputer\n",
    "from sklearn.impute import IterativeImputer\n",
    "from sklearn.linear_model import LinearRegression, LogisticRegression\n",
    "\n",
    "from random import sample\n",
    "import time\n",
    "import warnings"
   ]
  },
  {
   "cell_type": "code",
   "execution_count": null,
   "metadata": {},
   "outputs": [],
   "source": [
    "dataset =pd.read_csv(r\"../tables/output/dataset\", index_col=0)\n",
    "\n",
    "def preprocess(df):\n",
    "    df[\"censored_dtm\"] = \"2019-12-31\"\n",
    "    df[\"censored_duration_hour\"] = (pd.to_datetime(df[\"censored_dtm\"]) - pd.to_datetime(df[\"pre_dtm\"])).astype(int) / (10**9*60*60)\n",
    "    df[\"death_censored_duration_hour\"] = df[\"diff_in_hour_death_date\"] - df[\"pre_diff_hour\"]\n",
    "    df[\"sex\"] = df[\"sex\"].apply(lambda x : 0 if x=='M'else 1)\n",
    "    df[\"duration\"] = df[\"diab_diff_hour\"] - df[\"pre_diff_hour\"]\n",
    "    df[\"duration\"] = df[\"duration\"].fillna(df[\"death_censored_duration_hour\"])\n",
    "    df[\"duration\"] = df[\"duration\"].fillna(df[\"censored_duration_hour\"])\n",
    "    df[\"flag\"] = df[\"diab_age\"].notnull().astype(\"int\")"
   ]
  },
  {
   "cell_type": "code",
   "execution_count": null,
   "metadata": {},
   "outputs": [],
   "source": [
    "demo_info =['pseudo_patient_key',\n",
    "            'pre_age',\n",
    "            'duration',\n",
    "           'flag']\n",
    "# select missingness less than 25% tets and HBA1C\n",
    "tests_dict = {5200289: \"cholesHDL\",\n",
    " 5200290: \"choles\",\n",
    " 5200295: \"creatinine\",\n",
    " 5200306: \"fastingGlucose\",\n",
    " 5200325: \"triglyceride\"\n",
    "}\n",
    "valid_features = [\n",
    "    'cholesHDL', \n",
    "    'creatinine', \n",
    "    'fastingGlucose', \n",
    "    'triglyceride',\n",
    "    'HBA1C',\n",
    "    'choles'\n",
    "    ]\n",
    "tests_name = list(tests_dict.values())"
   ]
  },
  {
   "cell_type": "code",
   "execution_count": null,
   "metadata": {},
   "outputs": [],
   "source": [
    "# preprocess(dataset)\n",
    "ds = dataset.copy()[demo_info + valid_features]\n",
    "# ds = ds[[\"sex\", \"pre_age\", \"label\", \"duration\"]+tests_name]\n",
    "# ds = ds.dropna(how='any')"
   ]
  },
  {
   "cell_type": "code",
   "execution_count": null,
   "metadata": {},
   "outputs": [],
   "source": [
    "ds"
   ]
  },
  {
   "cell_type": "code",
   "execution_count": null,
   "metadata": {},
   "outputs": [],
   "source": [
    "ds = ds.dropna(how='any')"
   ]
  },
  {
   "cell_type": "code",
   "execution_count": null,
   "metadata": {},
   "outputs": [],
   "source": [
    "# Imputation\n",
    "lr = LogisticRegression()\n",
    "numeric_col = tests_name + [\"pre_age\", \"sex\", \"pre_diff_hour\"]\n",
    "# imp = IterativeImputer(estimator=lr, missing_values=np.nan,max_iter=10, verbose=2, imputation_order='roman', random_state=0)\n",
    "imp = IterativeImputer(missing_values=np.nan, max_iter=10, verbose=2, imputation_order='roman', random_state=0)\n",
    "ds[numeric_col] = imp.fit_transform(ds[numeric_col])\n",
    "ds[numeric_col] = ds[numeric_col].clip(0)"
   ]
  },
  {
   "cell_type": "code",
   "execution_count": null,
   "metadata": {},
   "outputs": [],
   "source": [
    "ds"
   ]
  },
  {
   "cell_type": "code",
   "execution_count": null,
   "metadata": {},
   "outputs": [],
   "source": [
    "cph = CoxPHFitter(penalizer=0.1)\n",
    "cox_train = ds[[\"pre_age\", \"flag\", \"duration\"] + valid_features]\n",
    "cph.fit(cox_train, duration_col='duration', event_col='flag')\n",
    "cph.print_summary()"
   ]
  },
  {
   "cell_type": "code",
   "execution_count": null,
   "metadata": {},
   "outputs": [],
   "source": [
    "cox_train.groupby(\"label\")[\"pre_age\"].mean()"
   ]
  },
  {
   "cell_type": "code",
   "execution_count": null,
   "metadata": {},
   "outputs": [],
   "source": [
    "cph.check_assumptions(cox_train)"
   ]
  }
 ],
 "metadata": {
  "kernelspec": {
   "display_name": "Python 3 (ipykernel)",
   "language": "python",
   "name": "python3"
  },
  "language_info": {
   "codemirror_mode": {
    "name": "ipython",
    "version": 3
   },
   "file_extension": ".py",
   "mimetype": "text/x-python",
   "name": "python",
   "nbconvert_exporter": "python",
   "pygments_lexer": "ipython3",
   "version": "3.7.3"
  }
 },
 "nbformat": 4,
 "nbformat_minor": 4
}
