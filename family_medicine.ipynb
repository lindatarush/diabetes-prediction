{
 "cells": [
  {
   "cell_type": "markdown",
   "id": "ec3d1a85",
   "metadata": {},
   "source": [
    "# Family Medicine\n",
    "This note book is dedicated to select diabetes and pre-diabetes patient based on their family medicine data source, the inclusion criterial is based on the corresponding ICPC code. This notebook includes following sections:\n",
    "1. Read the files\n",
    "2. Filter pre-diabetes and diabetes\n",
    "3. Select earliest records\n",
    "4. Write to disk"
   ]
  },
  {
   "cell_type": "markdown",
   "id": "ca6c5ebc",
   "metadata": {},
   "source": [
    "## Read the files"
   ]
  },
  {
   "cell_type": "code",
   "execution_count": null,
   "id": "1a988bb7",
   "metadata": {},
   "outputs": [],
   "source": [
    "import pandas as pd \n",
    "import os\n",
    "import numpy as np\n",
    "import util.cleaning_tools as tools\n",
    "%load_ext autoreload\n",
    "%autoreload 2"
   ]
  },
  {
   "cell_type": "code",
   "execution_count": null,
   "id": "266a2f94",
   "metadata": {},
   "outputs": [],
   "source": [
    "# read the file\n",
    "filepath = r'../DATAFILE'\n",
    "datafile = 'fm_cn_problem'\n",
    "fm_cn_record = tools.fileReader(filepath,datafile)\n",
    "fm_cn_record"
   ]
  },
  {
   "cell_type": "code",
   "execution_count": null,
   "id": "b2ac75d7",
   "metadata": {},
   "outputs": [],
   "source": [
    "fm_mapper = tools.fileReader(filepath,\"map_icpc\")"
   ]
  },
  {
   "cell_type": "markdown",
   "id": "6a0ad604",
   "metadata": {},
   "source": [
    "## Filter pre-diabetes and diabetes\n",
    "I filter the pre and diabetes based on the corresponding ICPC code"
   ]
  },
  {
   "cell_type": "code",
   "execution_count": null,
   "id": "d6e8c604",
   "metadata": {},
   "outputs": [],
   "source": [
    "# select the pre-diabetes and diabetes patient records\n",
    "fm_pre = fm_cn_record.loc[fm_cn_record.icpc == 'T901'] # pre-diab\n",
    "fm_diab = fm_cn_record.loc[fm_cn_record.icpc == 'T90'] # diab\n",
    "\n",
    "#label the groups\n",
    "fm_pre = fm_pre.assign(diab_type=\"pre\")\n",
    "fm_diab = fm_diab.assign(diab_type=\"diab\")"
   ]
  },
  {
   "cell_type": "markdown",
   "id": "d441415c",
   "metadata": {},
   "source": [
    "## Select the earliest records"
   ]
  },
  {
   "cell_type": "code",
   "execution_count": null,
   "id": "85741b78",
   "metadata": {},
   "outputs": [],
   "source": [
    "combine_records = pd.concat([fm_pre, fm_diab])\n",
    "combine_records.reset_index(inplace=True, drop=True) # reset the index since the cumcount require unique index\n",
    "# row_number window function to get the rank in each patient each diab_type\n",
    "combine_records[\"rnk\"] = combine_records.sort_values(\"src_create_dtm\")\\\n",
    "                       .groupby(by=[\"pseudo_patient_key\", \"diab_type\"])\\\n",
    "                       .cumcount() + 1"
   ]
  },
  {
   "cell_type": "code",
   "execution_count": null,
   "id": "b9efe9c3",
   "metadata": {},
   "outputs": [],
   "source": [
    "combine_records = combine_records[combine_records.rnk == 1].sort_values([\"diab_type\"])"
   ]
  },
  {
   "cell_type": "markdown",
   "id": "f11d1944",
   "metadata": {},
   "source": [
    "## Write to disk"
   ]
  },
  {
   "cell_type": "code",
   "execution_count": null,
   "id": "b2983ea8",
   "metadata": {},
   "outputs": [],
   "source": [
    "# write to csv file\n",
    "combine_records.rename({\"src_create_dtm\":\"dx_dtm\", \"diff_in_hour_creation_dtm\": \"diff_hour\"}, axis='columns', inplace=True)\n",
    "combine_records[\"src\"] = \"fm\"\n",
    "combine_records[[\"pseudo_patient_key\", \"dx_dtm\", \"diff_hour\", \"diab_type\", \"src\"]].to_csv(r\"../tables/output/first_diag_fm.csv\")"
   ]
  }
 ],
 "metadata": {
  "kernelspec": {
   "display_name": "Python 3 (ipykernel)",
   "language": "python",
   "name": "python3"
  },
  "language_info": {
   "codemirror_mode": {
    "name": "ipython",
    "version": 3
   },
   "file_extension": ".py",
   "mimetype": "text/x-python",
   "name": "python",
   "nbconvert_exporter": "python",
   "pygments_lexer": "ipython3",
   "version": "3.7.3"
  }
 },
 "nbformat": 4,
 "nbformat_minor": 5
}
